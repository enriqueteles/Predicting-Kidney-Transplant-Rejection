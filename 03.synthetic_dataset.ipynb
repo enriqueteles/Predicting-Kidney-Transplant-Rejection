{
 "cells": [
  {
   "cell_type": "markdown",
   "metadata": {},
   "source": [
    "# Generating Synthetic Dataset from the real one\n",
    "\n",
    "This is made in order to keep the privacy of the subjects when sharing the dataset"
   ]
  },
  {
   "cell_type": "code",
   "execution_count": 1,
   "metadata": {},
   "outputs": [],
   "source": [
    "import pandas as pd\n",
    "import numpy as np\n",
    "\n",
    "import matplotlib.pyplot as plt\n",
    "import seaborn as sns\n",
    "\n",
    "import plotly.express as px\n",
    "import plotly.graph_objects as go\n",
    "import plotly.io as pio\n",
    "\n",
    "pd.set_option('display.max_columns', None)\n",
    "# pd.set_option('future.no_silent_downcasting', True)"
   ]
  },
  {
   "cell_type": "code",
   "execution_count": 2,
   "metadata": {},
   "outputs": [
    {
     "data": {
      "text/html": [
       "<div>\n",
       "<style scoped>\n",
       "    .dataframe tbody tr th:only-of-type {\n",
       "        vertical-align: middle;\n",
       "    }\n",
       "\n",
       "    .dataframe tbody tr th {\n",
       "        vertical-align: top;\n",
       "    }\n",
       "\n",
       "    .dataframe thead th {\n",
       "        text-align: right;\n",
       "    }\n",
       "</style>\n",
       "<table border=\"1\" class=\"dataframe\">\n",
       "  <thead>\n",
       "    <tr style=\"text-align: right;\">\n",
       "      <th></th>\n",
       "      <th>recipientAge</th>\n",
       "      <th>recipientWeight</th>\n",
       "      <th>recipientHeight</th>\n",
       "      <th>recipientBodySurface</th>\n",
       "      <th>recipientColor</th>\n",
       "      <th>recipientSex</th>\n",
       "      <th>dialysisType</th>\n",
       "      <th>underlyingDisease</th>\n",
       "      <th>praI</th>\n",
       "      <th>retransplant</th>\n",
       "      <th>isDonorAlive</th>\n",
       "      <th>donorAge</th>\n",
       "      <th>donorSex</th>\n",
       "      <th>donorWeight</th>\n",
       "      <th>donorHeight</th>\n",
       "      <th>donorBmi</th>\n",
       "      <th>donorDeathCause</th>\n",
       "      <th>donorHypertension</th>\n",
       "      <th>donorDiabetesMellitus</th>\n",
       "      <th>donorFinalSodium</th>\n",
       "      <th>donorFinalCpk</th>\n",
       "      <th>donorFinalCreatinine</th>\n",
       "      <th>donorUsedVasoactiveDrug</th>\n",
       "      <th>donorHepatitisCVirus</th>\n",
       "      <th>coldIschemiaTimeMin</th>\n",
       "      <th>totalAnastomosisTimeMin</th>\n",
       "      <th>inductionType</th>\n",
       "      <th>initialImmunization</th>\n",
       "      <th>mismatch</th>\n",
       "      <th>rejected</th>\n",
       "      <th>delayedGraftFunction</th>\n",
       "      <th>outlier_iqr</th>\n",
       "      <th>outlier_zscore</th>\n",
       "      <th>outlier_isolation_forest</th>\n",
       "      <th>outlier_dbscan</th>\n",
       "      <th>null_columns</th>\n",
       "      <th>donorBodySurface</th>\n",
       "      <th>recipientBmi</th>\n",
       "    </tr>\n",
       "  </thead>\n",
       "  <tbody>\n",
       "    <tr>\n",
       "      <th>0</th>\n",
       "      <td>32</td>\n",
       "      <td>87.2</td>\n",
       "      <td>167.0</td>\n",
       "      <td>1.961351</td>\n",
       "      <td>brown</td>\n",
       "      <td>female</td>\n",
       "      <td>hemodialise</td>\n",
       "      <td>hypertension</td>\n",
       "      <td>0.0</td>\n",
       "      <td>False</td>\n",
       "      <td>True</td>\n",
       "      <td>26.0</td>\n",
       "      <td>male</td>\n",
       "      <td>NaN</td>\n",
       "      <td>NaN</td>\n",
       "      <td>NaN</td>\n",
       "      <td>None</td>\n",
       "      <td>False</td>\n",
       "      <td>False</td>\n",
       "      <td>NaN</td>\n",
       "      <td>NaN</td>\n",
       "      <td>1.36</td>\n",
       "      <td>False</td>\n",
       "      <td>None</td>\n",
       "      <td>21.6</td>\n",
       "      <td>35</td>\n",
       "      <td>basiliximab (simulet)</td>\n",
       "      <td>CNI+MMF+PRED</td>\n",
       "      <td>6.0</td>\n",
       "      <td>True</td>\n",
       "      <td>False</td>\n",
       "      <td>[recipientBodySurface]</td>\n",
       "      <td>[recipientBodySurface]</td>\n",
       "      <td>[mismatch, id]</td>\n",
       "      <td>[id]</td>\n",
       "      <td>[donorWeight, donorHeight, donorBmi, donorDeat...</td>\n",
       "      <td>NaN</td>\n",
       "      <td>31.266808</td>\n",
       "    </tr>\n",
       "    <tr>\n",
       "      <th>1</th>\n",
       "      <td>25</td>\n",
       "      <td>46.6</td>\n",
       "      <td>156.0</td>\n",
       "      <td>1.430361</td>\n",
       "      <td>white</td>\n",
       "      <td>female</td>\n",
       "      <td>hemodialise</td>\n",
       "      <td>glomerulopathy</td>\n",
       "      <td>NaN</td>\n",
       "      <td>False</td>\n",
       "      <td>True</td>\n",
       "      <td>29.0</td>\n",
       "      <td>male</td>\n",
       "      <td>NaN</td>\n",
       "      <td>NaN</td>\n",
       "      <td>NaN</td>\n",
       "      <td>None</td>\n",
       "      <td>False</td>\n",
       "      <td>False</td>\n",
       "      <td>NaN</td>\n",
       "      <td>NaN</td>\n",
       "      <td>1.36</td>\n",
       "      <td>False</td>\n",
       "      <td>None</td>\n",
       "      <td>21.6</td>\n",
       "      <td>35</td>\n",
       "      <td>no_induction</td>\n",
       "      <td>CNI+MMF+PRED</td>\n",
       "      <td>3.0</td>\n",
       "      <td>True</td>\n",
       "      <td>False</td>\n",
       "      <td>[]</td>\n",
       "      <td>[]</td>\n",
       "      <td>[id]</td>\n",
       "      <td>[id]</td>\n",
       "      <td>[praI, donorWeight, donorHeight, donorBmi, don...</td>\n",
       "      <td>NaN</td>\n",
       "      <td>19.148586</td>\n",
       "    </tr>\n",
       "    <tr>\n",
       "      <th>2</th>\n",
       "      <td>30</td>\n",
       "      <td>49.0</td>\n",
       "      <td>175.0</td>\n",
       "      <td>1.588189</td>\n",
       "      <td>white</td>\n",
       "      <td>female</td>\n",
       "      <td>hemodialise</td>\n",
       "      <td>glomerulopathy</td>\n",
       "      <td>0.0</td>\n",
       "      <td>False</td>\n",
       "      <td>False</td>\n",
       "      <td>50.0</td>\n",
       "      <td>male</td>\n",
       "      <td>75.0</td>\n",
       "      <td>172.0</td>\n",
       "      <td>25.351541</td>\n",
       "      <td>avci</td>\n",
       "      <td>True</td>\n",
       "      <td>False</td>\n",
       "      <td>146.0</td>\n",
       "      <td>181.0</td>\n",
       "      <td>0.87</td>\n",
       "      <td>True</td>\n",
       "      <td>False</td>\n",
       "      <td>22.0</td>\n",
       "      <td>65</td>\n",
       "      <td>basiliximab (simulet)</td>\n",
       "      <td>CNI+MMF+PRED</td>\n",
       "      <td>3.0</td>\n",
       "      <td>False</td>\n",
       "      <td>False</td>\n",
       "      <td>[]</td>\n",
       "      <td>[]</td>\n",
       "      <td>[id]</td>\n",
       "      <td>[donorFinalCpk, id]</td>\n",
       "      <td>[]</td>\n",
       "      <td>1.879427</td>\n",
       "      <td>16.000000</td>\n",
       "    </tr>\n",
       "    <tr>\n",
       "      <th>3</th>\n",
       "      <td>45</td>\n",
       "      <td>NaN</td>\n",
       "      <td>NaN</td>\n",
       "      <td>NaN</td>\n",
       "      <td>brown</td>\n",
       "      <td>female</td>\n",
       "      <td>hemodialise</td>\n",
       "      <td>glomerulopathy</td>\n",
       "      <td>98.0</td>\n",
       "      <td>True</td>\n",
       "      <td>False</td>\n",
       "      <td>18.0</td>\n",
       "      <td>female</td>\n",
       "      <td>NaN</td>\n",
       "      <td>NaN</td>\n",
       "      <td>NaN</td>\n",
       "      <td>None</td>\n",
       "      <td>False</td>\n",
       "      <td>False</td>\n",
       "      <td>NaN</td>\n",
       "      <td>NaN</td>\n",
       "      <td>1.36</td>\n",
       "      <td>False</td>\n",
       "      <td>None</td>\n",
       "      <td>21.6</td>\n",
       "      <td>48</td>\n",
       "      <td>thymoglobulin</td>\n",
       "      <td>CNI+MMF+PRED</td>\n",
       "      <td>0.0</td>\n",
       "      <td>False</td>\n",
       "      <td>False</td>\n",
       "      <td>[recipientBodySurface, praI]</td>\n",
       "      <td>[recipientBodySurface, praI]</td>\n",
       "      <td>[praI, id]</td>\n",
       "      <td>[id]</td>\n",
       "      <td>[recipientWeight, recipientHeight, donorWeight...</td>\n",
       "      <td>NaN</td>\n",
       "      <td>NaN</td>\n",
       "    </tr>\n",
       "    <tr>\n",
       "      <th>4</th>\n",
       "      <td>55</td>\n",
       "      <td>94.0</td>\n",
       "      <td>176.0</td>\n",
       "      <td>2.103499</td>\n",
       "      <td>white</td>\n",
       "      <td>male</td>\n",
       "      <td>hemodialise</td>\n",
       "      <td>diabetes</td>\n",
       "      <td>NaN</td>\n",
       "      <td>False</td>\n",
       "      <td>True</td>\n",
       "      <td>45.0</td>\n",
       "      <td>female</td>\n",
       "      <td>NaN</td>\n",
       "      <td>NaN</td>\n",
       "      <td>NaN</td>\n",
       "      <td>None</td>\n",
       "      <td>False</td>\n",
       "      <td>False</td>\n",
       "      <td>NaN</td>\n",
       "      <td>NaN</td>\n",
       "      <td>1.36</td>\n",
       "      <td>False</td>\n",
       "      <td>None</td>\n",
       "      <td>21.6</td>\n",
       "      <td>50</td>\n",
       "      <td>no_induction</td>\n",
       "      <td>CNI+MMF+PRED</td>\n",
       "      <td>6.0</td>\n",
       "      <td>True</td>\n",
       "      <td>False</td>\n",
       "      <td>[]</td>\n",
       "      <td>[]</td>\n",
       "      <td>[mismatch, id]</td>\n",
       "      <td>[id]</td>\n",
       "      <td>[recipientBirthdate, praI, donorWeight, donorH...</td>\n",
       "      <td>NaN</td>\n",
       "      <td>30.346074</td>\n",
       "    </tr>\n",
       "    <tr>\n",
       "      <th>...</th>\n",
       "      <td>...</td>\n",
       "      <td>...</td>\n",
       "      <td>...</td>\n",
       "      <td>...</td>\n",
       "      <td>...</td>\n",
       "      <td>...</td>\n",
       "      <td>...</td>\n",
       "      <td>...</td>\n",
       "      <td>...</td>\n",
       "      <td>...</td>\n",
       "      <td>...</td>\n",
       "      <td>...</td>\n",
       "      <td>...</td>\n",
       "      <td>...</td>\n",
       "      <td>...</td>\n",
       "      <td>...</td>\n",
       "      <td>...</td>\n",
       "      <td>...</td>\n",
       "      <td>...</td>\n",
       "      <td>...</td>\n",
       "      <td>...</td>\n",
       "      <td>...</td>\n",
       "      <td>...</td>\n",
       "      <td>...</td>\n",
       "      <td>...</td>\n",
       "      <td>...</td>\n",
       "      <td>...</td>\n",
       "      <td>...</td>\n",
       "      <td>...</td>\n",
       "      <td>...</td>\n",
       "      <td>...</td>\n",
       "      <td>...</td>\n",
       "      <td>...</td>\n",
       "      <td>...</td>\n",
       "      <td>...</td>\n",
       "      <td>...</td>\n",
       "      <td>...</td>\n",
       "      <td>...</td>\n",
       "    </tr>\n",
       "    <tr>\n",
       "      <th>1250</th>\n",
       "      <td>44</td>\n",
       "      <td>NaN</td>\n",
       "      <td>NaN</td>\n",
       "      <td>NaN</td>\n",
       "      <td>brown</td>\n",
       "      <td>male</td>\n",
       "      <td>None</td>\n",
       "      <td>hypertension</td>\n",
       "      <td>0.0</td>\n",
       "      <td>None</td>\n",
       "      <td>False</td>\n",
       "      <td>19.0</td>\n",
       "      <td>None</td>\n",
       "      <td>NaN</td>\n",
       "      <td>NaN</td>\n",
       "      <td>NaN</td>\n",
       "      <td>tce</td>\n",
       "      <td>False</td>\n",
       "      <td>False</td>\n",
       "      <td>NaN</td>\n",
       "      <td>NaN</td>\n",
       "      <td>1.10</td>\n",
       "      <td>False</td>\n",
       "      <td>None</td>\n",
       "      <td>19.0</td>\n",
       "      <td>48</td>\n",
       "      <td>thymoglobulin</td>\n",
       "      <td>CNI+imTOR+PRED</td>\n",
       "      <td>2.0</td>\n",
       "      <td>False</td>\n",
       "      <td>None</td>\n",
       "      <td>[recipientBodySurface]</td>\n",
       "      <td>[recipientBodySurface]</td>\n",
       "      <td>[id]</td>\n",
       "      <td>[id]</td>\n",
       "      <td>[recipientWeight, recipientHeight, dialysisTyp...</td>\n",
       "      <td>NaN</td>\n",
       "      <td>NaN</td>\n",
       "    </tr>\n",
       "    <tr>\n",
       "      <th>1251</th>\n",
       "      <td>34</td>\n",
       "      <td>NaN</td>\n",
       "      <td>NaN</td>\n",
       "      <td>NaN</td>\n",
       "      <td>white</td>\n",
       "      <td>female</td>\n",
       "      <td>None</td>\n",
       "      <td>glomerulopathy</td>\n",
       "      <td>0.0</td>\n",
       "      <td>None</td>\n",
       "      <td>False</td>\n",
       "      <td>35.0</td>\n",
       "      <td>None</td>\n",
       "      <td>NaN</td>\n",
       "      <td>NaN</td>\n",
       "      <td>NaN</td>\n",
       "      <td>tce</td>\n",
       "      <td>False</td>\n",
       "      <td>False</td>\n",
       "      <td>NaN</td>\n",
       "      <td>NaN</td>\n",
       "      <td>1.90</td>\n",
       "      <td>False</td>\n",
       "      <td>None</td>\n",
       "      <td>22.0</td>\n",
       "      <td>48</td>\n",
       "      <td>thymoglobulin</td>\n",
       "      <td>CNI+imTOR+PRED</td>\n",
       "      <td>4.0</td>\n",
       "      <td>False</td>\n",
       "      <td>None</td>\n",
       "      <td>[recipientBodySurface]</td>\n",
       "      <td>[recipientBodySurface]</td>\n",
       "      <td>[id]</td>\n",
       "      <td>[id]</td>\n",
       "      <td>[recipientWeight, recipientHeight, dialysisTyp...</td>\n",
       "      <td>NaN</td>\n",
       "      <td>NaN</td>\n",
       "    </tr>\n",
       "    <tr>\n",
       "      <th>1252</th>\n",
       "      <td>59</td>\n",
       "      <td>NaN</td>\n",
       "      <td>NaN</td>\n",
       "      <td>NaN</td>\n",
       "      <td>white</td>\n",
       "      <td>male</td>\n",
       "      <td>None</td>\n",
       "      <td>hypertension</td>\n",
       "      <td>0.0</td>\n",
       "      <td>None</td>\n",
       "      <td>False</td>\n",
       "      <td>35.0</td>\n",
       "      <td>None</td>\n",
       "      <td>NaN</td>\n",
       "      <td>NaN</td>\n",
       "      <td>NaN</td>\n",
       "      <td>avci</td>\n",
       "      <td>False</td>\n",
       "      <td>False</td>\n",
       "      <td>NaN</td>\n",
       "      <td>NaN</td>\n",
       "      <td>1.67</td>\n",
       "      <td>True</td>\n",
       "      <td>None</td>\n",
       "      <td>13.0</td>\n",
       "      <td>48</td>\n",
       "      <td>thymoglobulin</td>\n",
       "      <td>CNI+imTOR+PRED</td>\n",
       "      <td>3.0</td>\n",
       "      <td>False</td>\n",
       "      <td>None</td>\n",
       "      <td>[recipientBodySurface, coldIschemiaTimeMin]</td>\n",
       "      <td>[recipientBodySurface]</td>\n",
       "      <td>[id]</td>\n",
       "      <td>[id]</td>\n",
       "      <td>[recipientWeight, recipientHeight, dialysisTyp...</td>\n",
       "      <td>NaN</td>\n",
       "      <td>NaN</td>\n",
       "    </tr>\n",
       "    <tr>\n",
       "      <th>1253</th>\n",
       "      <td>35</td>\n",
       "      <td>NaN</td>\n",
       "      <td>NaN</td>\n",
       "      <td>NaN</td>\n",
       "      <td>white</td>\n",
       "      <td>female</td>\n",
       "      <td>None</td>\n",
       "      <td>indeterminate</td>\n",
       "      <td>83.0</td>\n",
       "      <td>None</td>\n",
       "      <td>False</td>\n",
       "      <td>27.0</td>\n",
       "      <td>None</td>\n",
       "      <td>NaN</td>\n",
       "      <td>NaN</td>\n",
       "      <td>NaN</td>\n",
       "      <td>avci</td>\n",
       "      <td>False</td>\n",
       "      <td>False</td>\n",
       "      <td>NaN</td>\n",
       "      <td>NaN</td>\n",
       "      <td>0.80</td>\n",
       "      <td>False</td>\n",
       "      <td>None</td>\n",
       "      <td>11.0</td>\n",
       "      <td>48</td>\n",
       "      <td>None</td>\n",
       "      <td>None</td>\n",
       "      <td>3.0</td>\n",
       "      <td>False</td>\n",
       "      <td>None</td>\n",
       "      <td>[recipientBodySurface, praI, coldIschemiaTimeMin]</td>\n",
       "      <td>[recipientBodySurface]</td>\n",
       "      <td>[coldIschemiaTimeMin, id]</td>\n",
       "      <td>[id]</td>\n",
       "      <td>[recipientWeight, recipientHeight, dialysisTyp...</td>\n",
       "      <td>NaN</td>\n",
       "      <td>NaN</td>\n",
       "    </tr>\n",
       "    <tr>\n",
       "      <th>1254</th>\n",
       "      <td>51</td>\n",
       "      <td>NaN</td>\n",
       "      <td>NaN</td>\n",
       "      <td>NaN</td>\n",
       "      <td>white</td>\n",
       "      <td>male</td>\n",
       "      <td>None</td>\n",
       "      <td>glomerulopathy</td>\n",
       "      <td>0.0</td>\n",
       "      <td>None</td>\n",
       "      <td>False</td>\n",
       "      <td>21.0</td>\n",
       "      <td>None</td>\n",
       "      <td>NaN</td>\n",
       "      <td>NaN</td>\n",
       "      <td>NaN</td>\n",
       "      <td>tce</td>\n",
       "      <td>False</td>\n",
       "      <td>False</td>\n",
       "      <td>NaN</td>\n",
       "      <td>NaN</td>\n",
       "      <td>1.20</td>\n",
       "      <td>False</td>\n",
       "      <td>None</td>\n",
       "      <td>16.0</td>\n",
       "      <td>48</td>\n",
       "      <td>thymoglobulin</td>\n",
       "      <td>CNI+imTOR+PRED</td>\n",
       "      <td>3.0</td>\n",
       "      <td>False</td>\n",
       "      <td>None</td>\n",
       "      <td>[recipientBodySurface]</td>\n",
       "      <td>[recipientBodySurface]</td>\n",
       "      <td>[id]</td>\n",
       "      <td>[id]</td>\n",
       "      <td>[recipientWeight, recipientHeight, dialysisTyp...</td>\n",
       "      <td>NaN</td>\n",
       "      <td>NaN</td>\n",
       "    </tr>\n",
       "  </tbody>\n",
       "</table>\n",
       "<p>1177 rows × 38 columns</p>\n",
       "</div>"
      ],
      "text/plain": [
       "      recipientAge  recipientWeight  recipientHeight  recipientBodySurface  \\\n",
       "0               32             87.2            167.0              1.961351   \n",
       "1               25             46.6            156.0              1.430361   \n",
       "2               30             49.0            175.0              1.588189   \n",
       "3               45              NaN              NaN                   NaN   \n",
       "4               55             94.0            176.0              2.103499   \n",
       "...            ...              ...              ...                   ...   \n",
       "1250            44              NaN              NaN                   NaN   \n",
       "1251            34              NaN              NaN                   NaN   \n",
       "1252            59              NaN              NaN                   NaN   \n",
       "1253            35              NaN              NaN                   NaN   \n",
       "1254            51              NaN              NaN                   NaN   \n",
       "\n",
       "     recipientColor recipientSex dialysisType underlyingDisease  praI  \\\n",
       "0             brown       female  hemodialise      hypertension   0.0   \n",
       "1             white       female  hemodialise    glomerulopathy   NaN   \n",
       "2             white       female  hemodialise    glomerulopathy   0.0   \n",
       "3             brown       female  hemodialise    glomerulopathy  98.0   \n",
       "4             white         male  hemodialise          diabetes   NaN   \n",
       "...             ...          ...          ...               ...   ...   \n",
       "1250          brown         male         None      hypertension   0.0   \n",
       "1251          white       female         None    glomerulopathy   0.0   \n",
       "1252          white         male         None      hypertension   0.0   \n",
       "1253          white       female         None     indeterminate  83.0   \n",
       "1254          white         male         None    glomerulopathy   0.0   \n",
       "\n",
       "     retransplant  isDonorAlive  donorAge donorSex  donorWeight  donorHeight  \\\n",
       "0           False          True      26.0     male          NaN          NaN   \n",
       "1           False          True      29.0     male          NaN          NaN   \n",
       "2           False         False      50.0     male         75.0        172.0   \n",
       "3            True         False      18.0   female          NaN          NaN   \n",
       "4           False          True      45.0   female          NaN          NaN   \n",
       "...           ...           ...       ...      ...          ...          ...   \n",
       "1250         None         False      19.0     None          NaN          NaN   \n",
       "1251         None         False      35.0     None          NaN          NaN   \n",
       "1252         None         False      35.0     None          NaN          NaN   \n",
       "1253         None         False      27.0     None          NaN          NaN   \n",
       "1254         None         False      21.0     None          NaN          NaN   \n",
       "\n",
       "       donorBmi donorDeathCause  donorHypertension  donorDiabetesMellitus  \\\n",
       "0           NaN            None              False                  False   \n",
       "1           NaN            None              False                  False   \n",
       "2     25.351541            avci               True                  False   \n",
       "3           NaN            None              False                  False   \n",
       "4           NaN            None              False                  False   \n",
       "...         ...             ...                ...                    ...   \n",
       "1250        NaN             tce              False                  False   \n",
       "1251        NaN             tce              False                  False   \n",
       "1252        NaN            avci              False                  False   \n",
       "1253        NaN            avci              False                  False   \n",
       "1254        NaN             tce              False                  False   \n",
       "\n",
       "      donorFinalSodium  donorFinalCpk  donorFinalCreatinine  \\\n",
       "0                  NaN            NaN                  1.36   \n",
       "1                  NaN            NaN                  1.36   \n",
       "2                146.0          181.0                  0.87   \n",
       "3                  NaN            NaN                  1.36   \n",
       "4                  NaN            NaN                  1.36   \n",
       "...                ...            ...                   ...   \n",
       "1250               NaN            NaN                  1.10   \n",
       "1251               NaN            NaN                  1.90   \n",
       "1252               NaN            NaN                  1.67   \n",
       "1253               NaN            NaN                  0.80   \n",
       "1254               NaN            NaN                  1.20   \n",
       "\n",
       "      donorUsedVasoactiveDrug donorHepatitisCVirus  coldIschemiaTimeMin  \\\n",
       "0                       False                 None                 21.6   \n",
       "1                       False                 None                 21.6   \n",
       "2                        True                False                 22.0   \n",
       "3                       False                 None                 21.6   \n",
       "4                       False                 None                 21.6   \n",
       "...                       ...                  ...                  ...   \n",
       "1250                    False                 None                 19.0   \n",
       "1251                    False                 None                 22.0   \n",
       "1252                     True                 None                 13.0   \n",
       "1253                    False                 None                 11.0   \n",
       "1254                    False                 None                 16.0   \n",
       "\n",
       "      totalAnastomosisTimeMin          inductionType initialImmunization  \\\n",
       "0                          35  basiliximab (simulet)        CNI+MMF+PRED   \n",
       "1                          35           no_induction        CNI+MMF+PRED   \n",
       "2                          65  basiliximab (simulet)        CNI+MMF+PRED   \n",
       "3                          48          thymoglobulin        CNI+MMF+PRED   \n",
       "4                          50           no_induction        CNI+MMF+PRED   \n",
       "...                       ...                    ...                 ...   \n",
       "1250                       48          thymoglobulin      CNI+imTOR+PRED   \n",
       "1251                       48          thymoglobulin      CNI+imTOR+PRED   \n",
       "1252                       48          thymoglobulin      CNI+imTOR+PRED   \n",
       "1253                       48                   None                None   \n",
       "1254                       48          thymoglobulin      CNI+imTOR+PRED   \n",
       "\n",
       "      mismatch  rejected delayedGraftFunction  \\\n",
       "0          6.0      True                False   \n",
       "1          3.0      True                False   \n",
       "2          3.0     False                False   \n",
       "3          0.0     False                False   \n",
       "4          6.0      True                False   \n",
       "...        ...       ...                  ...   \n",
       "1250       2.0     False                 None   \n",
       "1251       4.0     False                 None   \n",
       "1252       3.0     False                 None   \n",
       "1253       3.0     False                 None   \n",
       "1254       3.0     False                 None   \n",
       "\n",
       "                                            outlier_iqr  \\\n",
       "0                                [recipientBodySurface]   \n",
       "1                                                    []   \n",
       "2                                                    []   \n",
       "3                          [recipientBodySurface, praI]   \n",
       "4                                                    []   \n",
       "...                                                 ...   \n",
       "1250                             [recipientBodySurface]   \n",
       "1251                             [recipientBodySurface]   \n",
       "1252        [recipientBodySurface, coldIschemiaTimeMin]   \n",
       "1253  [recipientBodySurface, praI, coldIschemiaTimeMin]   \n",
       "1254                             [recipientBodySurface]   \n",
       "\n",
       "                    outlier_zscore   outlier_isolation_forest  \\\n",
       "0           [recipientBodySurface]             [mismatch, id]   \n",
       "1                               []                       [id]   \n",
       "2                               []                       [id]   \n",
       "3     [recipientBodySurface, praI]                 [praI, id]   \n",
       "4                               []             [mismatch, id]   \n",
       "...                            ...                        ...   \n",
       "1250        [recipientBodySurface]                       [id]   \n",
       "1251        [recipientBodySurface]                       [id]   \n",
       "1252        [recipientBodySurface]                       [id]   \n",
       "1253        [recipientBodySurface]  [coldIschemiaTimeMin, id]   \n",
       "1254        [recipientBodySurface]                       [id]   \n",
       "\n",
       "           outlier_dbscan                                       null_columns  \\\n",
       "0                    [id]  [donorWeight, donorHeight, donorBmi, donorDeat...   \n",
       "1                    [id]  [praI, donorWeight, donorHeight, donorBmi, don...   \n",
       "2     [donorFinalCpk, id]                                                 []   \n",
       "3                    [id]  [recipientWeight, recipientHeight, donorWeight...   \n",
       "4                    [id]  [recipientBirthdate, praI, donorWeight, donorH...   \n",
       "...                   ...                                                ...   \n",
       "1250                 [id]  [recipientWeight, recipientHeight, dialysisTyp...   \n",
       "1251                 [id]  [recipientWeight, recipientHeight, dialysisTyp...   \n",
       "1252                 [id]  [recipientWeight, recipientHeight, dialysisTyp...   \n",
       "1253                 [id]  [recipientWeight, recipientHeight, dialysisTyp...   \n",
       "1254                 [id]  [recipientWeight, recipientHeight, dialysisTyp...   \n",
       "\n",
       "      donorBodySurface  recipientBmi  \n",
       "0                  NaN     31.266808  \n",
       "1                  NaN     19.148586  \n",
       "2             1.879427     16.000000  \n",
       "3                  NaN           NaN  \n",
       "4                  NaN     30.346074  \n",
       "...                ...           ...  \n",
       "1250               NaN           NaN  \n",
       "1251               NaN           NaN  \n",
       "1252               NaN           NaN  \n",
       "1253               NaN           NaN  \n",
       "1254               NaN           NaN  \n",
       "\n",
       "[1177 rows x 38 columns]"
      ]
     },
     "execution_count": 2,
     "metadata": {},
     "output_type": "execute_result"
    }
   ],
   "source": [
    "df_origin = pd.read_parquet('rejection.parquet')\n",
    "df = df_origin.copy()\n",
    "df"
   ]
  },
  {
   "cell_type": "code",
   "execution_count": 3,
   "metadata": {},
   "outputs": [
    {
     "name": "stdout",
     "output_type": "stream",
     "text": [
      "shape of df: (1177, 33)\n",
      "shape of df_nn: (824, 33)\n",
      "Null row in df_nn: 353\n",
      "df_nn.value_counts(): rejected\n",
      "False    740\n",
      "True      84\n",
      "Name: count, dtype: int64\n"
     ]
    },
    {
     "name": "stderr",
     "output_type": "stream",
     "text": [
      "/tmp/ipykernel_394046/3183069259.py:7: SettingWithCopyWarning: \n",
      "A value is trying to be set on a copy of a slice from a DataFrame.\n",
      "Try using .loc[row_indexer,col_indexer] = value instead\n",
      "\n",
      "See the caveats in the documentation: https://pandas.pydata.org/pandas-docs/stable/user_guide/indexing.html#returning-a-view-versus-a-copy\n",
      "  df[bin_features] = df[bin_features].astype('bool')\n"
     ]
    }
   ],
   "source": [
    "# all features\n",
    "num_features =  ['recipientAge', 'recipientWeight', 'recipientHeight', 'recipientBmi', 'recipientBodySurface', 'praI', 'donorAge', 'donorWeight', 'donorHeight', 'donorBmi', 'donorBodySurface', 'donorFinalSodium', 'donorFinalCpk', 'donorFinalCreatinine', 'coldIschemiaTimeMin', 'totalAnastomosisTimeMin', 'mismatch']\n",
    "cat_features = ['recipientColor', 'recipientSex', 'dialysisType', 'underlyingDisease', 'donorSex', 'donorDeathCause', 'inductionType', 'initialImmunization']\n",
    "bin_features = ['retransplant', 'donorHepatitisCVirus', 'delayedGraftFunction', 'isDonorAlive', 'donorHypertension', 'donorDiabetesMellitus', 'donorUsedVasoactiveDrug', 'rejected']\n",
    "\n",
    "df = df[num_features + cat_features + bin_features]\n",
    "df[bin_features] = df[bin_features].astype('bool')\n",
    "\n",
    "df_nn = df.dropna(inplace=False)\n",
    "print(f'shape of df: {df.shape}')\n",
    "print(f'shape of df_nn: {df_nn.shape}')\n",
    "\n",
    "print(f'Null row in df_nn: {len(df) - len(df_nn)}')\n",
    "\n",
    "print(f'df_nn.value_counts(): {df_nn[\"rejected\"].value_counts()}')"
   ]
  },
  {
   "cell_type": "code",
   "execution_count": 9,
   "metadata": {},
   "outputs": [],
   "source": [
    "df_real = df_nn.copy()\n",
    "\n",
    "# Identify numeric and categorical columns\n",
    "numeric_cols = df_real.select_dtypes(include=[\"number\"]).columns\n",
    "categorical_cols = df_real.select_dtypes(exclude=[\"number\"]).columns\n",
    "\n",
    "# Generate synthetic numeric data by multiplying the real data with a random factor in range [1 - alpha, 1 + alpha]\n",
    "mean_vals = df_real[numeric_cols].mean()\n",
    "std_vals = df_real[numeric_cols].std()\n",
    "\n",
    "# Generate scaling factors using mean and std\n",
    "demographic_alpha = 0.4\n",
    "clinical_alpha = 0.2\n",
    "\n",
    "demographic_numeric_cols = ['recipientAge', 'recipientWeight', 'recipientHeight', 'recipientBodySurface', 'donorAge', 'donorWeight', 'donorHeight', 'donorBmi']\n",
    "clinical_numeric_cols = ['praI', 'donorFinalSodium', 'donorFinalCpk', 'donorFinalCreatinine', 'coldIschemiaTimeMin', 'totalAnastomosisTimeMin', 'mismatch']\n",
    "\n",
    "random_demographic_factors = np.random.uniform(1 - demographic_alpha * (std_vals[demographic_numeric_cols] / mean_vals[demographic_numeric_cols]), 1 + demographic_alpha * (std_vals[demographic_numeric_cols] / mean_vals[demographic_numeric_cols]), size=df_real[demographic_numeric_cols].shape)\n",
    "random_clinical_factors = np.random.uniform(1 - clinical_alpha * (std_vals[clinical_numeric_cols] / mean_vals[clinical_numeric_cols]), 1 + clinical_alpha * (std_vals[clinical_numeric_cols] / mean_vals[clinical_numeric_cols]), size=df_real[clinical_numeric_cols].shape)\n",
    "\n",
    "df_synthetic = df_real.copy()\n",
    "df_synthetic[demographic_numeric_cols] = df_real[demographic_numeric_cols] * random_demographic_factors\n",
    "df_synthetic[clinical_numeric_cols] = df_real[clinical_numeric_cols] * random_clinical_factors\n",
    "\n",
    "int_cols = ['recipientAge', 'recipientWeight', 'recipientHeight', 'praI', 'donorAge', 'donorWeight', 'donorHeight', 'totalAnastomosisTimeMin', 'mismatch']\n",
    "df_synthetic[int_cols] = df_synthetic[int_cols].astype(int)\n",
    "\n",
    "df_synthetic['recipientBodySurface'] = df_synthetic['recipientWeight'] ** 0.425 * df_synthetic['recipientHeight'] ** 0.725 * 0.007184\n",
    "df_synthetic['donorBodySurface'] = df_synthetic['donorWeight'] ** 0.425 * df_synthetic['donorHeight'] ** 0.725 * 0.007184\n",
    "df_synthetic['recipientBmi'] = df_synthetic['recipientWeight'] / (df_synthetic['recipientHeight'] / 100) ** 2\n",
    "df_synthetic['donorBmi'] = df_synthetic['donorWeight'] / (df_synthetic['donorHeight'] / 100) ** 2\n",
    "\n",
    "# Keep categorical values unchanged\n",
    "df_synthetic[categorical_cols] = df_real[categorical_cols]\n",
    "df_synthetic['praI'] = df_real['praI']\n",
    "df_synthetic['mismatch'] = df_real['mismatch']\n",
    "\n",
    "# Save or return the synthetic dataset\n",
    "df_synthetic.to_csv(\"synthetic_dataset.csv\", index=False)\n"
   ]
  },
  {
   "cell_type": "code",
   "execution_count": 10,
   "metadata": {},
   "outputs": [
    {
     "data": {
      "text/html": [
       "<div>\n",
       "<style scoped>\n",
       "    .dataframe tbody tr th:only-of-type {\n",
       "        vertical-align: middle;\n",
       "    }\n",
       "\n",
       "    .dataframe tbody tr th {\n",
       "        vertical-align: top;\n",
       "    }\n",
       "\n",
       "    .dataframe thead th {\n",
       "        text-align: right;\n",
       "    }\n",
       "</style>\n",
       "<table border=\"1\" class=\"dataframe\">\n",
       "  <thead>\n",
       "    <tr style=\"text-align: right;\">\n",
       "      <th></th>\n",
       "      <th>Column</th>\n",
       "      <th>KS Statistic</th>\n",
       "      <th>p-value</th>\n",
       "    </tr>\n",
       "  </thead>\n",
       "  <tbody>\n",
       "    <tr>\n",
       "      <th>0</th>\n",
       "      <td>recipientAge</td>\n",
       "      <td>0.043689</td>\n",
       "      <td>0.411421</td>\n",
       "    </tr>\n",
       "    <tr>\n",
       "      <th>1</th>\n",
       "      <td>recipientWeight</td>\n",
       "      <td>0.040049</td>\n",
       "      <td>0.523573</td>\n",
       "    </tr>\n",
       "    <tr>\n",
       "      <th>2</th>\n",
       "      <td>recipientHeight</td>\n",
       "      <td>0.042476</td>\n",
       "      <td>0.447256</td>\n",
       "    </tr>\n",
       "    <tr>\n",
       "      <th>3</th>\n",
       "      <td>recipientBmi</td>\n",
       "      <td>0.031553</td>\n",
       "      <td>0.806945</td>\n",
       "    </tr>\n",
       "    <tr>\n",
       "      <th>4</th>\n",
       "      <td>recipientBodySurface</td>\n",
       "      <td>0.041262</td>\n",
       "      <td>0.484701</td>\n",
       "    </tr>\n",
       "    <tr>\n",
       "      <th>5</th>\n",
       "      <td>praI</td>\n",
       "      <td>0.000000</td>\n",
       "      <td>1.000000</td>\n",
       "    </tr>\n",
       "    <tr>\n",
       "      <th>6</th>\n",
       "      <td>donorAge</td>\n",
       "      <td>0.046117</td>\n",
       "      <td>0.345063</td>\n",
       "    </tr>\n",
       "    <tr>\n",
       "      <th>7</th>\n",
       "      <td>donorWeight</td>\n",
       "      <td>0.083738</td>\n",
       "      <td>0.006170</td>\n",
       "    </tr>\n",
       "    <tr>\n",
       "      <th>8</th>\n",
       "      <td>donorHeight</td>\n",
       "      <td>0.077670</td>\n",
       "      <td>0.013847</td>\n",
       "    </tr>\n",
       "    <tr>\n",
       "      <th>9</th>\n",
       "      <td>donorBmi</td>\n",
       "      <td>0.059466</td>\n",
       "      <td>0.108523</td>\n",
       "    </tr>\n",
       "    <tr>\n",
       "      <th>10</th>\n",
       "      <td>donorBodySurface</td>\n",
       "      <td>0.048544</td>\n",
       "      <td>0.286185</td>\n",
       "    </tr>\n",
       "    <tr>\n",
       "      <th>11</th>\n",
       "      <td>donorFinalSodium</td>\n",
       "      <td>0.026699</td>\n",
       "      <td>0.930925</td>\n",
       "    </tr>\n",
       "    <tr>\n",
       "      <th>12</th>\n",
       "      <td>donorFinalCpk</td>\n",
       "      <td>0.033981</td>\n",
       "      <td>0.728585</td>\n",
       "    </tr>\n",
       "    <tr>\n",
       "      <th>13</th>\n",
       "      <td>donorFinalCreatinine</td>\n",
       "      <td>0.043689</td>\n",
       "      <td>0.411421</td>\n",
       "    </tr>\n",
       "    <tr>\n",
       "      <th>14</th>\n",
       "      <td>coldIschemiaTimeMin</td>\n",
       "      <td>0.040049</td>\n",
       "      <td>0.523573</td>\n",
       "    </tr>\n",
       "    <tr>\n",
       "      <th>15</th>\n",
       "      <td>totalAnastomosisTimeMin</td>\n",
       "      <td>0.040049</td>\n",
       "      <td>0.523573</td>\n",
       "    </tr>\n",
       "    <tr>\n",
       "      <th>16</th>\n",
       "      <td>mismatch</td>\n",
       "      <td>0.000000</td>\n",
       "      <td>1.000000</td>\n",
       "    </tr>\n",
       "  </tbody>\n",
       "</table>\n",
       "</div>"
      ],
      "text/plain": [
       "                     Column  KS Statistic   p-value\n",
       "0              recipientAge      0.043689  0.411421\n",
       "1           recipientWeight      0.040049  0.523573\n",
       "2           recipientHeight      0.042476  0.447256\n",
       "3              recipientBmi      0.031553  0.806945\n",
       "4      recipientBodySurface      0.041262  0.484701\n",
       "5                      praI      0.000000  1.000000\n",
       "6                  donorAge      0.046117  0.345063\n",
       "7               donorWeight      0.083738  0.006170\n",
       "8               donorHeight      0.077670  0.013847\n",
       "9                  donorBmi      0.059466  0.108523\n",
       "10         donorBodySurface      0.048544  0.286185\n",
       "11         donorFinalSodium      0.026699  0.930925\n",
       "12            donorFinalCpk      0.033981  0.728585\n",
       "13     donorFinalCreatinine      0.043689  0.411421\n",
       "14      coldIschemiaTimeMin      0.040049  0.523573\n",
       "15  totalAnastomosisTimeMin      0.040049  0.523573\n",
       "16                 mismatch      0.000000  1.000000"
      ]
     },
     "execution_count": 10,
     "metadata": {},
     "output_type": "execute_result"
    }
   ],
   "source": [
    "from scipy.stats import ks_2samp\n",
    "\n",
    "# Initialize a list to store the results\n",
    "ks_results = []\n",
    "\n",
    "# Perform the KS test for each column and store the results, only for numeric columns\n",
    "for col in numeric_cols:\n",
    "    stat, p_value = ks_2samp(df_real[col], df_synthetic[col])\n",
    "    ks_results.append({'Column': col, 'KS Statistic': stat, 'p-value': p_value})\n",
    "\n",
    "# Convert the results to a DataFrame\n",
    "ks_results_df = pd.DataFrame(ks_results)\n",
    "ks_results_df\n"
   ]
  },
  {
   "cell_type": "code",
   "execution_count": 11,
   "metadata": {},
   "outputs": [
    {
     "data": {
      "text/html": [
       "<div>\n",
       "<style scoped>\n",
       "    .dataframe tbody tr th:only-of-type {\n",
       "        vertical-align: middle;\n",
       "    }\n",
       "\n",
       "    .dataframe tbody tr th {\n",
       "        vertical-align: top;\n",
       "    }\n",
       "\n",
       "    .dataframe thead th {\n",
       "        text-align: right;\n",
       "    }\n",
       "</style>\n",
       "<table border=\"1\" class=\"dataframe\">\n",
       "  <thead>\n",
       "    <tr style=\"text-align: right;\">\n",
       "      <th></th>\n",
       "      <th>recipientAge</th>\n",
       "      <th>recipientWeight</th>\n",
       "      <th>recipientHeight</th>\n",
       "      <th>recipientBmi</th>\n",
       "      <th>recipientBodySurface</th>\n",
       "      <th>praI</th>\n",
       "      <th>donorAge</th>\n",
       "      <th>donorWeight</th>\n",
       "      <th>donorHeight</th>\n",
       "      <th>donorBmi</th>\n",
       "      <th>donorBodySurface</th>\n",
       "      <th>donorFinalSodium</th>\n",
       "      <th>donorFinalCpk</th>\n",
       "      <th>donorFinalCreatinine</th>\n",
       "      <th>coldIschemiaTimeMin</th>\n",
       "      <th>totalAnastomosisTimeMin</th>\n",
       "      <th>mismatch</th>\n",
       "      <th>recipientColor</th>\n",
       "      <th>recipientSex</th>\n",
       "      <th>dialysisType</th>\n",
       "      <th>underlyingDisease</th>\n",
       "      <th>donorSex</th>\n",
       "      <th>donorDeathCause</th>\n",
       "      <th>inductionType</th>\n",
       "      <th>initialImmunization</th>\n",
       "      <th>retransplant</th>\n",
       "      <th>donorHepatitisCVirus</th>\n",
       "      <th>delayedGraftFunction</th>\n",
       "      <th>isDonorAlive</th>\n",
       "      <th>donorHypertension</th>\n",
       "      <th>donorDiabetesMellitus</th>\n",
       "      <th>donorUsedVasoactiveDrug</th>\n",
       "      <th>rejected</th>\n",
       "    </tr>\n",
       "  </thead>\n",
       "  <tbody>\n",
       "    <tr>\n",
       "      <th>2</th>\n",
       "      <td>30</td>\n",
       "      <td>49.0</td>\n",
       "      <td>175.0</td>\n",
       "      <td>16.000000</td>\n",
       "      <td>1.588189</td>\n",
       "      <td>0.0</td>\n",
       "      <td>50.0</td>\n",
       "      <td>75.0</td>\n",
       "      <td>172.0</td>\n",
       "      <td>25.351541</td>\n",
       "      <td>1.879427</td>\n",
       "      <td>146.0</td>\n",
       "      <td>181.0</td>\n",
       "      <td>0.87</td>\n",
       "      <td>22.00</td>\n",
       "      <td>65</td>\n",
       "      <td>3.0</td>\n",
       "      <td>white</td>\n",
       "      <td>female</td>\n",
       "      <td>hemodialise</td>\n",
       "      <td>glomerulopathy</td>\n",
       "      <td>male</td>\n",
       "      <td>avci</td>\n",
       "      <td>basiliximab (simulet)</td>\n",
       "      <td>CNI+MMF+PRED</td>\n",
       "      <td>False</td>\n",
       "      <td>False</td>\n",
       "      <td>False</td>\n",
       "      <td>False</td>\n",
       "      <td>True</td>\n",
       "      <td>False</td>\n",
       "      <td>True</td>\n",
       "      <td>False</td>\n",
       "    </tr>\n",
       "    <tr>\n",
       "      <th>5</th>\n",
       "      <td>26</td>\n",
       "      <td>60.0</td>\n",
       "      <td>177.0</td>\n",
       "      <td>19.151585</td>\n",
       "      <td>1.745264</td>\n",
       "      <td>0.0</td>\n",
       "      <td>22.0</td>\n",
       "      <td>55.0</td>\n",
       "      <td>160.0</td>\n",
       "      <td>21.484375</td>\n",
       "      <td>1.563174</td>\n",
       "      <td>135.0</td>\n",
       "      <td>35.0</td>\n",
       "      <td>0.40</td>\n",
       "      <td>32.08</td>\n",
       "      <td>45</td>\n",
       "      <td>4.0</td>\n",
       "      <td>brown</td>\n",
       "      <td>male</td>\n",
       "      <td>hemodialise</td>\n",
       "      <td>hypertension</td>\n",
       "      <td>female</td>\n",
       "      <td>tce</td>\n",
       "      <td>basiliximab (simulet)</td>\n",
       "      <td>CNI+MMF+PRED</td>\n",
       "      <td>False</td>\n",
       "      <td>False</td>\n",
       "      <td>True</td>\n",
       "      <td>False</td>\n",
       "      <td>False</td>\n",
       "      <td>False</td>\n",
       "      <td>True</td>\n",
       "      <td>False</td>\n",
       "    </tr>\n",
       "    <tr>\n",
       "      <th>6</th>\n",
       "      <td>40</td>\n",
       "      <td>43.5</td>\n",
       "      <td>143.0</td>\n",
       "      <td>21.272434</td>\n",
       "      <td>1.304196</td>\n",
       "      <td>0.0</td>\n",
       "      <td>10.0</td>\n",
       "      <td>22.0</td>\n",
       "      <td>130.0</td>\n",
       "      <td>13.017751</td>\n",
       "      <td>0.910972</td>\n",
       "      <td>162.0</td>\n",
       "      <td>34742.0</td>\n",
       "      <td>1.50</td>\n",
       "      <td>28.33</td>\n",
       "      <td>40</td>\n",
       "      <td>4.0</td>\n",
       "      <td>brown</td>\n",
       "      <td>female</td>\n",
       "      <td>hemodialise</td>\n",
       "      <td>glomerulopathy</td>\n",
       "      <td>female</td>\n",
       "      <td>others</td>\n",
       "      <td>basiliximab (simulet)</td>\n",
       "      <td>CNI+MMF+PRED</td>\n",
       "      <td>False</td>\n",
       "      <td>False</td>\n",
       "      <td>True</td>\n",
       "      <td>False</td>\n",
       "      <td>False</td>\n",
       "      <td>False</td>\n",
       "      <td>True</td>\n",
       "      <td>True</td>\n",
       "    </tr>\n",
       "    <tr>\n",
       "      <th>7</th>\n",
       "      <td>66</td>\n",
       "      <td>70.0</td>\n",
       "      <td>158.0</td>\n",
       "      <td>28.040378</td>\n",
       "      <td>1.716166</td>\n",
       "      <td>0.0</td>\n",
       "      <td>25.0</td>\n",
       "      <td>70.0</td>\n",
       "      <td>180.0</td>\n",
       "      <td>21.604938</td>\n",
       "      <td>1.886277</td>\n",
       "      <td>142.0</td>\n",
       "      <td>1262.0</td>\n",
       "      <td>1.10</td>\n",
       "      <td>21.92</td>\n",
       "      <td>55</td>\n",
       "      <td>1.0</td>\n",
       "      <td>brown</td>\n",
       "      <td>female</td>\n",
       "      <td>dialise_peritoneal</td>\n",
       "      <td>indeterminate</td>\n",
       "      <td>male</td>\n",
       "      <td>tce</td>\n",
       "      <td>basiliximab (simulet)</td>\n",
       "      <td>CNI+AZA+PRED</td>\n",
       "      <td>False</td>\n",
       "      <td>False</td>\n",
       "      <td>False</td>\n",
       "      <td>False</td>\n",
       "      <td>False</td>\n",
       "      <td>False</td>\n",
       "      <td>False</td>\n",
       "      <td>False</td>\n",
       "    </tr>\n",
       "    <tr>\n",
       "      <th>8</th>\n",
       "      <td>34</td>\n",
       "      <td>68.0</td>\n",
       "      <td>152.0</td>\n",
       "      <td>29.432133</td>\n",
       "      <td>1.648235</td>\n",
       "      <td>0.0</td>\n",
       "      <td>25.0</td>\n",
       "      <td>70.0</td>\n",
       "      <td>180.0</td>\n",
       "      <td>21.604938</td>\n",
       "      <td>1.886277</td>\n",
       "      <td>142.0</td>\n",
       "      <td>1262.0</td>\n",
       "      <td>1.10</td>\n",
       "      <td>26.00</td>\n",
       "      <td>85</td>\n",
       "      <td>1.0</td>\n",
       "      <td>white</td>\n",
       "      <td>female</td>\n",
       "      <td>hemodialise</td>\n",
       "      <td>glomerulopathy</td>\n",
       "      <td>male</td>\n",
       "      <td>tce</td>\n",
       "      <td>basiliximab (simulet)</td>\n",
       "      <td>CNI+MMF+PRED</td>\n",
       "      <td>False</td>\n",
       "      <td>False</td>\n",
       "      <td>False</td>\n",
       "      <td>False</td>\n",
       "      <td>False</td>\n",
       "      <td>False</td>\n",
       "      <td>False</td>\n",
       "      <td>False</td>\n",
       "    </tr>\n",
       "  </tbody>\n",
       "</table>\n",
       "</div>"
      ],
      "text/plain": [
       "   recipientAge  recipientWeight  recipientHeight  recipientBmi  \\\n",
       "2            30             49.0            175.0     16.000000   \n",
       "5            26             60.0            177.0     19.151585   \n",
       "6            40             43.5            143.0     21.272434   \n",
       "7            66             70.0            158.0     28.040378   \n",
       "8            34             68.0            152.0     29.432133   \n",
       "\n",
       "   recipientBodySurface  praI  donorAge  donorWeight  donorHeight   donorBmi  \\\n",
       "2              1.588189   0.0      50.0         75.0        172.0  25.351541   \n",
       "5              1.745264   0.0      22.0         55.0        160.0  21.484375   \n",
       "6              1.304196   0.0      10.0         22.0        130.0  13.017751   \n",
       "7              1.716166   0.0      25.0         70.0        180.0  21.604938   \n",
       "8              1.648235   0.0      25.0         70.0        180.0  21.604938   \n",
       "\n",
       "   donorBodySurface  donorFinalSodium  donorFinalCpk  donorFinalCreatinine  \\\n",
       "2          1.879427             146.0          181.0                  0.87   \n",
       "5          1.563174             135.0           35.0                  0.40   \n",
       "6          0.910972             162.0        34742.0                  1.50   \n",
       "7          1.886277             142.0         1262.0                  1.10   \n",
       "8          1.886277             142.0         1262.0                  1.10   \n",
       "\n",
       "   coldIschemiaTimeMin  totalAnastomosisTimeMin  mismatch recipientColor  \\\n",
       "2                22.00                       65       3.0          white   \n",
       "5                32.08                       45       4.0          brown   \n",
       "6                28.33                       40       4.0          brown   \n",
       "7                21.92                       55       1.0          brown   \n",
       "8                26.00                       85       1.0          white   \n",
       "\n",
       "  recipientSex        dialysisType underlyingDisease donorSex donorDeathCause  \\\n",
       "2       female         hemodialise    glomerulopathy     male            avci   \n",
       "5         male         hemodialise      hypertension   female             tce   \n",
       "6       female         hemodialise    glomerulopathy   female          others   \n",
       "7       female  dialise_peritoneal     indeterminate     male             tce   \n",
       "8       female         hemodialise    glomerulopathy     male             tce   \n",
       "\n",
       "           inductionType initialImmunization  retransplant  \\\n",
       "2  basiliximab (simulet)        CNI+MMF+PRED         False   \n",
       "5  basiliximab (simulet)        CNI+MMF+PRED         False   \n",
       "6  basiliximab (simulet)        CNI+MMF+PRED         False   \n",
       "7  basiliximab (simulet)        CNI+AZA+PRED         False   \n",
       "8  basiliximab (simulet)        CNI+MMF+PRED         False   \n",
       "\n",
       "   donorHepatitisCVirus  delayedGraftFunction  isDonorAlive  \\\n",
       "2                 False                 False         False   \n",
       "5                 False                  True         False   \n",
       "6                 False                  True         False   \n",
       "7                 False                 False         False   \n",
       "8                 False                 False         False   \n",
       "\n",
       "   donorHypertension  donorDiabetesMellitus  donorUsedVasoactiveDrug  rejected  \n",
       "2               True                  False                     True     False  \n",
       "5              False                  False                     True     False  \n",
       "6              False                  False                     True      True  \n",
       "7              False                  False                    False     False  \n",
       "8              False                  False                    False     False  "
      ]
     },
     "metadata": {},
     "output_type": "display_data"
    },
    {
     "data": {
      "text/html": [
       "<div>\n",
       "<style scoped>\n",
       "    .dataframe tbody tr th:only-of-type {\n",
       "        vertical-align: middle;\n",
       "    }\n",
       "\n",
       "    .dataframe tbody tr th {\n",
       "        vertical-align: top;\n",
       "    }\n",
       "\n",
       "    .dataframe thead th {\n",
       "        text-align: right;\n",
       "    }\n",
       "</style>\n",
       "<table border=\"1\" class=\"dataframe\">\n",
       "  <thead>\n",
       "    <tr style=\"text-align: right;\">\n",
       "      <th></th>\n",
       "      <th>recipientAge</th>\n",
       "      <th>recipientWeight</th>\n",
       "      <th>recipientHeight</th>\n",
       "      <th>recipientBmi</th>\n",
       "      <th>recipientBodySurface</th>\n",
       "      <th>praI</th>\n",
       "      <th>donorAge</th>\n",
       "      <th>donorWeight</th>\n",
       "      <th>donorHeight</th>\n",
       "      <th>donorBmi</th>\n",
       "      <th>donorBodySurface</th>\n",
       "      <th>donorFinalSodium</th>\n",
       "      <th>donorFinalCpk</th>\n",
       "      <th>donorFinalCreatinine</th>\n",
       "      <th>coldIschemiaTimeMin</th>\n",
       "      <th>totalAnastomosisTimeMin</th>\n",
       "      <th>mismatch</th>\n",
       "      <th>recipientColor</th>\n",
       "      <th>recipientSex</th>\n",
       "      <th>dialysisType</th>\n",
       "      <th>underlyingDisease</th>\n",
       "      <th>donorSex</th>\n",
       "      <th>donorDeathCause</th>\n",
       "      <th>inductionType</th>\n",
       "      <th>initialImmunization</th>\n",
       "      <th>retransplant</th>\n",
       "      <th>donorHepatitisCVirus</th>\n",
       "      <th>delayedGraftFunction</th>\n",
       "      <th>isDonorAlive</th>\n",
       "      <th>donorHypertension</th>\n",
       "      <th>donorDiabetesMellitus</th>\n",
       "      <th>donorUsedVasoactiveDrug</th>\n",
       "      <th>rejected</th>\n",
       "    </tr>\n",
       "  </thead>\n",
       "  <tbody>\n",
       "    <tr>\n",
       "      <th>2</th>\n",
       "      <td>26</td>\n",
       "      <td>52</td>\n",
       "      <td>170</td>\n",
       "      <td>17.993080</td>\n",
       "      <td>1.594936</td>\n",
       "      <td>0.0</td>\n",
       "      <td>53</td>\n",
       "      <td>75</td>\n",
       "      <td>172</td>\n",
       "      <td>25.351541</td>\n",
       "      <td>1.879427</td>\n",
       "      <td>144.123752</td>\n",
       "      <td>146.790156</td>\n",
       "      <td>0.893670</td>\n",
       "      <td>21.851294</td>\n",
       "      <td>64</td>\n",
       "      <td>3.0</td>\n",
       "      <td>white</td>\n",
       "      <td>female</td>\n",
       "      <td>hemodialise</td>\n",
       "      <td>glomerulopathy</td>\n",
       "      <td>male</td>\n",
       "      <td>avci</td>\n",
       "      <td>basiliximab (simulet)</td>\n",
       "      <td>CNI+MMF+PRED</td>\n",
       "      <td>False</td>\n",
       "      <td>False</td>\n",
       "      <td>False</td>\n",
       "      <td>False</td>\n",
       "      <td>True</td>\n",
       "      <td>False</td>\n",
       "      <td>True</td>\n",
       "      <td>False</td>\n",
       "    </tr>\n",
       "    <tr>\n",
       "      <th>5</th>\n",
       "      <td>27</td>\n",
       "      <td>56</td>\n",
       "      <td>177</td>\n",
       "      <td>17.874812</td>\n",
       "      <td>1.694833</td>\n",
       "      <td>0.0</td>\n",
       "      <td>22</td>\n",
       "      <td>55</td>\n",
       "      <td>163</td>\n",
       "      <td>20.700817</td>\n",
       "      <td>1.584370</td>\n",
       "      <td>136.609047</td>\n",
       "      <td>17.928761</td>\n",
       "      <td>0.421254</td>\n",
       "      <td>31.762669</td>\n",
       "      <td>46</td>\n",
       "      <td>4.0</td>\n",
       "      <td>brown</td>\n",
       "      <td>male</td>\n",
       "      <td>hemodialise</td>\n",
       "      <td>hypertension</td>\n",
       "      <td>female</td>\n",
       "      <td>tce</td>\n",
       "      <td>basiliximab (simulet)</td>\n",
       "      <td>CNI+MMF+PRED</td>\n",
       "      <td>False</td>\n",
       "      <td>False</td>\n",
       "      <td>True</td>\n",
       "      <td>False</td>\n",
       "      <td>False</td>\n",
       "      <td>False</td>\n",
       "      <td>True</td>\n",
       "      <td>False</td>\n",
       "    </tr>\n",
       "    <tr>\n",
       "      <th>6</th>\n",
       "      <td>39</td>\n",
       "      <td>44</td>\n",
       "      <td>143</td>\n",
       "      <td>21.516945</td>\n",
       "      <td>1.310546</td>\n",
       "      <td>0.0</td>\n",
       "      <td>10</td>\n",
       "      <td>23</td>\n",
       "      <td>133</td>\n",
       "      <td>13.002431</td>\n",
       "      <td>0.943829</td>\n",
       "      <td>164.229452</td>\n",
       "      <td>26096.353702</td>\n",
       "      <td>1.530983</td>\n",
       "      <td>28.817619</td>\n",
       "      <td>41</td>\n",
       "      <td>4.0</td>\n",
       "      <td>brown</td>\n",
       "      <td>female</td>\n",
       "      <td>hemodialise</td>\n",
       "      <td>glomerulopathy</td>\n",
       "      <td>female</td>\n",
       "      <td>others</td>\n",
       "      <td>basiliximab (simulet)</td>\n",
       "      <td>CNI+MMF+PRED</td>\n",
       "      <td>False</td>\n",
       "      <td>False</td>\n",
       "      <td>True</td>\n",
       "      <td>False</td>\n",
       "      <td>False</td>\n",
       "      <td>False</td>\n",
       "      <td>True</td>\n",
       "      <td>True</td>\n",
       "    </tr>\n",
       "    <tr>\n",
       "      <th>7</th>\n",
       "      <td>63</td>\n",
       "      <td>74</td>\n",
       "      <td>159</td>\n",
       "      <td>29.270994</td>\n",
       "      <td>1.765236</td>\n",
       "      <td>0.0</td>\n",
       "      <td>22</td>\n",
       "      <td>72</td>\n",
       "      <td>180</td>\n",
       "      <td>22.222222</td>\n",
       "      <td>1.908997</td>\n",
       "      <td>142.168711</td>\n",
       "      <td>1547.052629</td>\n",
       "      <td>1.207032</td>\n",
       "      <td>21.573128</td>\n",
       "      <td>54</td>\n",
       "      <td>1.0</td>\n",
       "      <td>brown</td>\n",
       "      <td>female</td>\n",
       "      <td>dialise_peritoneal</td>\n",
       "      <td>indeterminate</td>\n",
       "      <td>male</td>\n",
       "      <td>tce</td>\n",
       "      <td>basiliximab (simulet)</td>\n",
       "      <td>CNI+AZA+PRED</td>\n",
       "      <td>False</td>\n",
       "      <td>False</td>\n",
       "      <td>False</td>\n",
       "      <td>False</td>\n",
       "      <td>False</td>\n",
       "      <td>False</td>\n",
       "      <td>False</td>\n",
       "      <td>False</td>\n",
       "    </tr>\n",
       "    <tr>\n",
       "      <th>8</th>\n",
       "      <td>35</td>\n",
       "      <td>71</td>\n",
       "      <td>154</td>\n",
       "      <td>29.937595</td>\n",
       "      <td>1.694742</td>\n",
       "      <td>0.0</td>\n",
       "      <td>27</td>\n",
       "      <td>74</td>\n",
       "      <td>183</td>\n",
       "      <td>22.096808</td>\n",
       "      <td>1.954640</td>\n",
       "      <td>141.980193</td>\n",
       "      <td>1578.878859</td>\n",
       "      <td>0.971920</td>\n",
       "      <td>26.383388</td>\n",
       "      <td>81</td>\n",
       "      <td>1.0</td>\n",
       "      <td>white</td>\n",
       "      <td>female</td>\n",
       "      <td>hemodialise</td>\n",
       "      <td>glomerulopathy</td>\n",
       "      <td>male</td>\n",
       "      <td>tce</td>\n",
       "      <td>basiliximab (simulet)</td>\n",
       "      <td>CNI+MMF+PRED</td>\n",
       "      <td>False</td>\n",
       "      <td>False</td>\n",
       "      <td>False</td>\n",
       "      <td>False</td>\n",
       "      <td>False</td>\n",
       "      <td>False</td>\n",
       "      <td>False</td>\n",
       "      <td>False</td>\n",
       "    </tr>\n",
       "  </tbody>\n",
       "</table>\n",
       "</div>"
      ],
      "text/plain": [
       "   recipientAge  recipientWeight  recipientHeight  recipientBmi  \\\n",
       "2            26               52              170     17.993080   \n",
       "5            27               56              177     17.874812   \n",
       "6            39               44              143     21.516945   \n",
       "7            63               74              159     29.270994   \n",
       "8            35               71              154     29.937595   \n",
       "\n",
       "   recipientBodySurface  praI  donorAge  donorWeight  donorHeight   donorBmi  \\\n",
       "2              1.594936   0.0        53           75          172  25.351541   \n",
       "5              1.694833   0.0        22           55          163  20.700817   \n",
       "6              1.310546   0.0        10           23          133  13.002431   \n",
       "7              1.765236   0.0        22           72          180  22.222222   \n",
       "8              1.694742   0.0        27           74          183  22.096808   \n",
       "\n",
       "   donorBodySurface  donorFinalSodium  donorFinalCpk  donorFinalCreatinine  \\\n",
       "2          1.879427        144.123752     146.790156              0.893670   \n",
       "5          1.584370        136.609047      17.928761              0.421254   \n",
       "6          0.943829        164.229452   26096.353702              1.530983   \n",
       "7          1.908997        142.168711    1547.052629              1.207032   \n",
       "8          1.954640        141.980193    1578.878859              0.971920   \n",
       "\n",
       "   coldIschemiaTimeMin  totalAnastomosisTimeMin  mismatch recipientColor  \\\n",
       "2            21.851294                       64       3.0          white   \n",
       "5            31.762669                       46       4.0          brown   \n",
       "6            28.817619                       41       4.0          brown   \n",
       "7            21.573128                       54       1.0          brown   \n",
       "8            26.383388                       81       1.0          white   \n",
       "\n",
       "  recipientSex        dialysisType underlyingDisease donorSex donorDeathCause  \\\n",
       "2       female         hemodialise    glomerulopathy     male            avci   \n",
       "5         male         hemodialise      hypertension   female             tce   \n",
       "6       female         hemodialise    glomerulopathy   female          others   \n",
       "7       female  dialise_peritoneal     indeterminate     male             tce   \n",
       "8       female         hemodialise    glomerulopathy     male             tce   \n",
       "\n",
       "           inductionType initialImmunization  retransplant  \\\n",
       "2  basiliximab (simulet)        CNI+MMF+PRED         False   \n",
       "5  basiliximab (simulet)        CNI+MMF+PRED         False   \n",
       "6  basiliximab (simulet)        CNI+MMF+PRED         False   \n",
       "7  basiliximab (simulet)        CNI+AZA+PRED         False   \n",
       "8  basiliximab (simulet)        CNI+MMF+PRED         False   \n",
       "\n",
       "   donorHepatitisCVirus  delayedGraftFunction  isDonorAlive  \\\n",
       "2                 False                 False         False   \n",
       "5                 False                  True         False   \n",
       "6                 False                  True         False   \n",
       "7                 False                 False         False   \n",
       "8                 False                 False         False   \n",
       "\n",
       "   donorHypertension  donorDiabetesMellitus  donorUsedVasoactiveDrug  rejected  \n",
       "2               True                  False                     True     False  \n",
       "5              False                  False                     True     False  \n",
       "6              False                  False                     True      True  \n",
       "7              False                  False                    False     False  \n",
       "8              False                  False                    False     False  "
      ]
     },
     "metadata": {},
     "output_type": "display_data"
    },
    {
     "name": "stdout",
     "output_type": "stream",
     "text": [
      "df_real.shape: (824, 33), df_synthetic.shape: (824, 33)\n"
     ]
    }
   ],
   "source": [
    "display(df_real.head())\n",
    "display(df_synthetic.head())\n",
    "print(f'df_real.shape: {df_real.shape}, df_synthetic.shape: {df_synthetic.shape}')"
   ]
  },
  {
   "cell_type": "code",
   "execution_count": 12,
   "metadata": {},
   "outputs": [
    {
     "data": {
      "application/vnd.plotly.v1+json": {
       "config": {
        "plotlyServerURL": "https://plot.ly"
       },
       "data": [
        {
         "alignmentgroup": "True",
         "hovertemplate": "Column=%{x}<br>KS Statistic=%{y}<extra></extra>",
         "legendgroup": "",
         "marker": {
          "color": "#636efa",
          "pattern": {
           "shape": ""
          }
         },
         "name": "",
         "offsetgroup": "",
         "orientation": "v",
         "showlegend": false,
         "textposition": "auto",
         "type": "bar",
         "x": [
          "recipientAge",
          "recipientWeight",
          "recipientHeight",
          "recipientBmi",
          "recipientBodySurface",
          "praI",
          "donorAge",
          "donorWeight",
          "donorHeight",
          "donorBmi",
          "donorBodySurface",
          "donorFinalSodium",
          "donorFinalCpk",
          "donorFinalCreatinine",
          "coldIschemiaTimeMin",
          "totalAnastomosisTimeMin",
          "mismatch"
         ],
         "xaxis": "x",
         "y": [
          0.043689320388349516,
          0.04004854368932039,
          0.04247572815533981,
          0.03155339805825243,
          0.0412621359223301,
          0,
          0.04611650485436893,
          0.08373786407766991,
          0.07766990291262135,
          0.05946601941747573,
          0.04854368932038835,
          0.02669902912621359,
          0.03398058252427184,
          0.043689320388349516,
          0.04004854368932039,
          0.04004854368932039,
          0
         ],
         "yaxis": "y"
        }
       ],
       "layout": {
        "barmode": "relative",
        "legend": {
         "tracegroupgap": 0
        },
        "template": {
         "data": {
          "bar": [
           {
            "error_x": {
             "color": "#2a3f5f"
            },
            "error_y": {
             "color": "#2a3f5f"
            },
            "marker": {
             "line": {
              "color": "#E5ECF6",
              "width": 0.5
             },
             "pattern": {
              "fillmode": "overlay",
              "size": 10,
              "solidity": 0.2
             }
            },
            "type": "bar"
           }
          ],
          "barpolar": [
           {
            "marker": {
             "line": {
              "color": "#E5ECF6",
              "width": 0.5
             },
             "pattern": {
              "fillmode": "overlay",
              "size": 10,
              "solidity": 0.2
             }
            },
            "type": "barpolar"
           }
          ],
          "carpet": [
           {
            "aaxis": {
             "endlinecolor": "#2a3f5f",
             "gridcolor": "white",
             "linecolor": "white",
             "minorgridcolor": "white",
             "startlinecolor": "#2a3f5f"
            },
            "baxis": {
             "endlinecolor": "#2a3f5f",
             "gridcolor": "white",
             "linecolor": "white",
             "minorgridcolor": "white",
             "startlinecolor": "#2a3f5f"
            },
            "type": "carpet"
           }
          ],
          "choropleth": [
           {
            "colorbar": {
             "outlinewidth": 0,
             "ticks": ""
            },
            "type": "choropleth"
           }
          ],
          "contour": [
           {
            "colorbar": {
             "outlinewidth": 0,
             "ticks": ""
            },
            "colorscale": [
             [
              0,
              "#0d0887"
             ],
             [
              0.1111111111111111,
              "#46039f"
             ],
             [
              0.2222222222222222,
              "#7201a8"
             ],
             [
              0.3333333333333333,
              "#9c179e"
             ],
             [
              0.4444444444444444,
              "#bd3786"
             ],
             [
              0.5555555555555556,
              "#d8576b"
             ],
             [
              0.6666666666666666,
              "#ed7953"
             ],
             [
              0.7777777777777778,
              "#fb9f3a"
             ],
             [
              0.8888888888888888,
              "#fdca26"
             ],
             [
              1,
              "#f0f921"
             ]
            ],
            "type": "contour"
           }
          ],
          "contourcarpet": [
           {
            "colorbar": {
             "outlinewidth": 0,
             "ticks": ""
            },
            "type": "contourcarpet"
           }
          ],
          "heatmap": [
           {
            "colorbar": {
             "outlinewidth": 0,
             "ticks": ""
            },
            "colorscale": [
             [
              0,
              "#0d0887"
             ],
             [
              0.1111111111111111,
              "#46039f"
             ],
             [
              0.2222222222222222,
              "#7201a8"
             ],
             [
              0.3333333333333333,
              "#9c179e"
             ],
             [
              0.4444444444444444,
              "#bd3786"
             ],
             [
              0.5555555555555556,
              "#d8576b"
             ],
             [
              0.6666666666666666,
              "#ed7953"
             ],
             [
              0.7777777777777778,
              "#fb9f3a"
             ],
             [
              0.8888888888888888,
              "#fdca26"
             ],
             [
              1,
              "#f0f921"
             ]
            ],
            "type": "heatmap"
           }
          ],
          "heatmapgl": [
           {
            "colorbar": {
             "outlinewidth": 0,
             "ticks": ""
            },
            "colorscale": [
             [
              0,
              "#0d0887"
             ],
             [
              0.1111111111111111,
              "#46039f"
             ],
             [
              0.2222222222222222,
              "#7201a8"
             ],
             [
              0.3333333333333333,
              "#9c179e"
             ],
             [
              0.4444444444444444,
              "#bd3786"
             ],
             [
              0.5555555555555556,
              "#d8576b"
             ],
             [
              0.6666666666666666,
              "#ed7953"
             ],
             [
              0.7777777777777778,
              "#fb9f3a"
             ],
             [
              0.8888888888888888,
              "#fdca26"
             ],
             [
              1,
              "#f0f921"
             ]
            ],
            "type": "heatmapgl"
           }
          ],
          "histogram": [
           {
            "marker": {
             "pattern": {
              "fillmode": "overlay",
              "size": 10,
              "solidity": 0.2
             }
            },
            "type": "histogram"
           }
          ],
          "histogram2d": [
           {
            "colorbar": {
             "outlinewidth": 0,
             "ticks": ""
            },
            "colorscale": [
             [
              0,
              "#0d0887"
             ],
             [
              0.1111111111111111,
              "#46039f"
             ],
             [
              0.2222222222222222,
              "#7201a8"
             ],
             [
              0.3333333333333333,
              "#9c179e"
             ],
             [
              0.4444444444444444,
              "#bd3786"
             ],
             [
              0.5555555555555556,
              "#d8576b"
             ],
             [
              0.6666666666666666,
              "#ed7953"
             ],
             [
              0.7777777777777778,
              "#fb9f3a"
             ],
             [
              0.8888888888888888,
              "#fdca26"
             ],
             [
              1,
              "#f0f921"
             ]
            ],
            "type": "histogram2d"
           }
          ],
          "histogram2dcontour": [
           {
            "colorbar": {
             "outlinewidth": 0,
             "ticks": ""
            },
            "colorscale": [
             [
              0,
              "#0d0887"
             ],
             [
              0.1111111111111111,
              "#46039f"
             ],
             [
              0.2222222222222222,
              "#7201a8"
             ],
             [
              0.3333333333333333,
              "#9c179e"
             ],
             [
              0.4444444444444444,
              "#bd3786"
             ],
             [
              0.5555555555555556,
              "#d8576b"
             ],
             [
              0.6666666666666666,
              "#ed7953"
             ],
             [
              0.7777777777777778,
              "#fb9f3a"
             ],
             [
              0.8888888888888888,
              "#fdca26"
             ],
             [
              1,
              "#f0f921"
             ]
            ],
            "type": "histogram2dcontour"
           }
          ],
          "mesh3d": [
           {
            "colorbar": {
             "outlinewidth": 0,
             "ticks": ""
            },
            "type": "mesh3d"
           }
          ],
          "parcoords": [
           {
            "line": {
             "colorbar": {
              "outlinewidth": 0,
              "ticks": ""
             }
            },
            "type": "parcoords"
           }
          ],
          "pie": [
           {
            "automargin": true,
            "type": "pie"
           }
          ],
          "scatter": [
           {
            "fillpattern": {
             "fillmode": "overlay",
             "size": 10,
             "solidity": 0.2
            },
            "type": "scatter"
           }
          ],
          "scatter3d": [
           {
            "line": {
             "colorbar": {
              "outlinewidth": 0,
              "ticks": ""
             }
            },
            "marker": {
             "colorbar": {
              "outlinewidth": 0,
              "ticks": ""
             }
            },
            "type": "scatter3d"
           }
          ],
          "scattercarpet": [
           {
            "marker": {
             "colorbar": {
              "outlinewidth": 0,
              "ticks": ""
             }
            },
            "type": "scattercarpet"
           }
          ],
          "scattergeo": [
           {
            "marker": {
             "colorbar": {
              "outlinewidth": 0,
              "ticks": ""
             }
            },
            "type": "scattergeo"
           }
          ],
          "scattergl": [
           {
            "marker": {
             "colorbar": {
              "outlinewidth": 0,
              "ticks": ""
             }
            },
            "type": "scattergl"
           }
          ],
          "scattermapbox": [
           {
            "marker": {
             "colorbar": {
              "outlinewidth": 0,
              "ticks": ""
             }
            },
            "type": "scattermapbox"
           }
          ],
          "scatterpolar": [
           {
            "marker": {
             "colorbar": {
              "outlinewidth": 0,
              "ticks": ""
             }
            },
            "type": "scatterpolar"
           }
          ],
          "scatterpolargl": [
           {
            "marker": {
             "colorbar": {
              "outlinewidth": 0,
              "ticks": ""
             }
            },
            "type": "scatterpolargl"
           }
          ],
          "scatterternary": [
           {
            "marker": {
             "colorbar": {
              "outlinewidth": 0,
              "ticks": ""
             }
            },
            "type": "scatterternary"
           }
          ],
          "surface": [
           {
            "colorbar": {
             "outlinewidth": 0,
             "ticks": ""
            },
            "colorscale": [
             [
              0,
              "#0d0887"
             ],
             [
              0.1111111111111111,
              "#46039f"
             ],
             [
              0.2222222222222222,
              "#7201a8"
             ],
             [
              0.3333333333333333,
              "#9c179e"
             ],
             [
              0.4444444444444444,
              "#bd3786"
             ],
             [
              0.5555555555555556,
              "#d8576b"
             ],
             [
              0.6666666666666666,
              "#ed7953"
             ],
             [
              0.7777777777777778,
              "#fb9f3a"
             ],
             [
              0.8888888888888888,
              "#fdca26"
             ],
             [
              1,
              "#f0f921"
             ]
            ],
            "type": "surface"
           }
          ],
          "table": [
           {
            "cells": {
             "fill": {
              "color": "#EBF0F8"
             },
             "line": {
              "color": "white"
             }
            },
            "header": {
             "fill": {
              "color": "#C8D4E3"
             },
             "line": {
              "color": "white"
             }
            },
            "type": "table"
           }
          ]
         },
         "layout": {
          "annotationdefaults": {
           "arrowcolor": "#2a3f5f",
           "arrowhead": 0,
           "arrowwidth": 1
          },
          "autotypenumbers": "strict",
          "coloraxis": {
           "colorbar": {
            "outlinewidth": 0,
            "ticks": ""
           }
          },
          "colorscale": {
           "diverging": [
            [
             0,
             "#8e0152"
            ],
            [
             0.1,
             "#c51b7d"
            ],
            [
             0.2,
             "#de77ae"
            ],
            [
             0.3,
             "#f1b6da"
            ],
            [
             0.4,
             "#fde0ef"
            ],
            [
             0.5,
             "#f7f7f7"
            ],
            [
             0.6,
             "#e6f5d0"
            ],
            [
             0.7,
             "#b8e186"
            ],
            [
             0.8,
             "#7fbc41"
            ],
            [
             0.9,
             "#4d9221"
            ],
            [
             1,
             "#276419"
            ]
           ],
           "sequential": [
            [
             0,
             "#0d0887"
            ],
            [
             0.1111111111111111,
             "#46039f"
            ],
            [
             0.2222222222222222,
             "#7201a8"
            ],
            [
             0.3333333333333333,
             "#9c179e"
            ],
            [
             0.4444444444444444,
             "#bd3786"
            ],
            [
             0.5555555555555556,
             "#d8576b"
            ],
            [
             0.6666666666666666,
             "#ed7953"
            ],
            [
             0.7777777777777778,
             "#fb9f3a"
            ],
            [
             0.8888888888888888,
             "#fdca26"
            ],
            [
             1,
             "#f0f921"
            ]
           ],
           "sequentialminus": [
            [
             0,
             "#0d0887"
            ],
            [
             0.1111111111111111,
             "#46039f"
            ],
            [
             0.2222222222222222,
             "#7201a8"
            ],
            [
             0.3333333333333333,
             "#9c179e"
            ],
            [
             0.4444444444444444,
             "#bd3786"
            ],
            [
             0.5555555555555556,
             "#d8576b"
            ],
            [
             0.6666666666666666,
             "#ed7953"
            ],
            [
             0.7777777777777778,
             "#fb9f3a"
            ],
            [
             0.8888888888888888,
             "#fdca26"
            ],
            [
             1,
             "#f0f921"
            ]
           ]
          },
          "colorway": [
           "#636efa",
           "#EF553B",
           "#00cc96",
           "#ab63fa",
           "#FFA15A",
           "#19d3f3",
           "#FF6692",
           "#B6E880",
           "#FF97FF",
           "#FECB52"
          ],
          "font": {
           "color": "#2a3f5f"
          },
          "geo": {
           "bgcolor": "white",
           "lakecolor": "white",
           "landcolor": "#E5ECF6",
           "showlakes": true,
           "showland": true,
           "subunitcolor": "white"
          },
          "hoverlabel": {
           "align": "left"
          },
          "hovermode": "closest",
          "mapbox": {
           "style": "light"
          },
          "paper_bgcolor": "white",
          "plot_bgcolor": "#E5ECF6",
          "polar": {
           "angularaxis": {
            "gridcolor": "white",
            "linecolor": "white",
            "ticks": ""
           },
           "bgcolor": "#E5ECF6",
           "radialaxis": {
            "gridcolor": "white",
            "linecolor": "white",
            "ticks": ""
           }
          },
          "scene": {
           "xaxis": {
            "backgroundcolor": "#E5ECF6",
            "gridcolor": "white",
            "gridwidth": 2,
            "linecolor": "white",
            "showbackground": true,
            "ticks": "",
            "zerolinecolor": "white"
           },
           "yaxis": {
            "backgroundcolor": "#E5ECF6",
            "gridcolor": "white",
            "gridwidth": 2,
            "linecolor": "white",
            "showbackground": true,
            "ticks": "",
            "zerolinecolor": "white"
           },
           "zaxis": {
            "backgroundcolor": "#E5ECF6",
            "gridcolor": "white",
            "gridwidth": 2,
            "linecolor": "white",
            "showbackground": true,
            "ticks": "",
            "zerolinecolor": "white"
           }
          },
          "shapedefaults": {
           "line": {
            "color": "#2a3f5f"
           }
          },
          "ternary": {
           "aaxis": {
            "gridcolor": "white",
            "linecolor": "white",
            "ticks": ""
           },
           "baxis": {
            "gridcolor": "white",
            "linecolor": "white",
            "ticks": ""
           },
           "bgcolor": "#E5ECF6",
           "caxis": {
            "gridcolor": "white",
            "linecolor": "white",
            "ticks": ""
           }
          },
          "title": {
           "x": 0.05
          },
          "xaxis": {
           "automargin": true,
           "gridcolor": "white",
           "linecolor": "white",
           "ticks": "",
           "title": {
            "standoff": 15
           },
           "zerolinecolor": "white",
           "zerolinewidth": 2
          },
          "yaxis": {
           "automargin": true,
           "gridcolor": "white",
           "linecolor": "white",
           "ticks": "",
           "title": {
            "standoff": 15
           },
           "zerolinecolor": "white",
           "zerolinewidth": 2
          }
         }
        },
        "title": {
         "text": "KS Statistic for each column"
        },
        "xaxis": {
         "anchor": "y",
         "domain": [
          0,
          1
         ],
         "title": {
          "text": "Column"
         }
        },
        "yaxis": {
         "anchor": "x",
         "domain": [
          0,
          1
         ],
         "title": {
          "text": "KS Statistic"
         }
        }
       }
      }
     },
     "metadata": {},
     "output_type": "display_data"
    },
    {
     "data": {
      "application/vnd.plotly.v1+json": {
       "config": {
        "plotlyServerURL": "https://plot.ly"
       },
       "data": [
        {
         "alignmentgroup": "True",
         "hovertemplate": "Column=%{x}<br>p-value=%{y}<extra></extra>",
         "legendgroup": "",
         "marker": {
          "color": "#636efa",
          "pattern": {
           "shape": ""
          }
         },
         "name": "",
         "offsetgroup": "",
         "orientation": "v",
         "showlegend": false,
         "textposition": "auto",
         "type": "bar",
         "x": [
          "recipientAge",
          "recipientWeight",
          "recipientHeight",
          "recipientBmi",
          "recipientBodySurface",
          "praI",
          "donorAge",
          "donorWeight",
          "donorHeight",
          "donorBmi",
          "donorBodySurface",
          "donorFinalSodium",
          "donorFinalCpk",
          "donorFinalCreatinine",
          "coldIschemiaTimeMin",
          "totalAnastomosisTimeMin",
          "mismatch"
         ],
         "xaxis": "x",
         "y": [
          0.411421046029955,
          0.5235731665624646,
          0.4472556626544596,
          0.806945008279554,
          0.48470053034113075,
          1,
          0.34506315535918797,
          0.006170224692024446,
          0.013846639697234833,
          0.10852295317197565,
          0.2861848158942444,
          0.9309253012170162,
          0.7285848578740445,
          0.411421046029955,
          0.5235731665624646,
          0.5235731665624646,
          1
         ],
         "yaxis": "y"
        }
       ],
       "layout": {
        "barmode": "relative",
        "legend": {
         "tracegroupgap": 0
        },
        "template": {
         "data": {
          "bar": [
           {
            "error_x": {
             "color": "#2a3f5f"
            },
            "error_y": {
             "color": "#2a3f5f"
            },
            "marker": {
             "line": {
              "color": "#E5ECF6",
              "width": 0.5
             },
             "pattern": {
              "fillmode": "overlay",
              "size": 10,
              "solidity": 0.2
             }
            },
            "type": "bar"
           }
          ],
          "barpolar": [
           {
            "marker": {
             "line": {
              "color": "#E5ECF6",
              "width": 0.5
             },
             "pattern": {
              "fillmode": "overlay",
              "size": 10,
              "solidity": 0.2
             }
            },
            "type": "barpolar"
           }
          ],
          "carpet": [
           {
            "aaxis": {
             "endlinecolor": "#2a3f5f",
             "gridcolor": "white",
             "linecolor": "white",
             "minorgridcolor": "white",
             "startlinecolor": "#2a3f5f"
            },
            "baxis": {
             "endlinecolor": "#2a3f5f",
             "gridcolor": "white",
             "linecolor": "white",
             "minorgridcolor": "white",
             "startlinecolor": "#2a3f5f"
            },
            "type": "carpet"
           }
          ],
          "choropleth": [
           {
            "colorbar": {
             "outlinewidth": 0,
             "ticks": ""
            },
            "type": "choropleth"
           }
          ],
          "contour": [
           {
            "colorbar": {
             "outlinewidth": 0,
             "ticks": ""
            },
            "colorscale": [
             [
              0,
              "#0d0887"
             ],
             [
              0.1111111111111111,
              "#46039f"
             ],
             [
              0.2222222222222222,
              "#7201a8"
             ],
             [
              0.3333333333333333,
              "#9c179e"
             ],
             [
              0.4444444444444444,
              "#bd3786"
             ],
             [
              0.5555555555555556,
              "#d8576b"
             ],
             [
              0.6666666666666666,
              "#ed7953"
             ],
             [
              0.7777777777777778,
              "#fb9f3a"
             ],
             [
              0.8888888888888888,
              "#fdca26"
             ],
             [
              1,
              "#f0f921"
             ]
            ],
            "type": "contour"
           }
          ],
          "contourcarpet": [
           {
            "colorbar": {
             "outlinewidth": 0,
             "ticks": ""
            },
            "type": "contourcarpet"
           }
          ],
          "heatmap": [
           {
            "colorbar": {
             "outlinewidth": 0,
             "ticks": ""
            },
            "colorscale": [
             [
              0,
              "#0d0887"
             ],
             [
              0.1111111111111111,
              "#46039f"
             ],
             [
              0.2222222222222222,
              "#7201a8"
             ],
             [
              0.3333333333333333,
              "#9c179e"
             ],
             [
              0.4444444444444444,
              "#bd3786"
             ],
             [
              0.5555555555555556,
              "#d8576b"
             ],
             [
              0.6666666666666666,
              "#ed7953"
             ],
             [
              0.7777777777777778,
              "#fb9f3a"
             ],
             [
              0.8888888888888888,
              "#fdca26"
             ],
             [
              1,
              "#f0f921"
             ]
            ],
            "type": "heatmap"
           }
          ],
          "heatmapgl": [
           {
            "colorbar": {
             "outlinewidth": 0,
             "ticks": ""
            },
            "colorscale": [
             [
              0,
              "#0d0887"
             ],
             [
              0.1111111111111111,
              "#46039f"
             ],
             [
              0.2222222222222222,
              "#7201a8"
             ],
             [
              0.3333333333333333,
              "#9c179e"
             ],
             [
              0.4444444444444444,
              "#bd3786"
             ],
             [
              0.5555555555555556,
              "#d8576b"
             ],
             [
              0.6666666666666666,
              "#ed7953"
             ],
             [
              0.7777777777777778,
              "#fb9f3a"
             ],
             [
              0.8888888888888888,
              "#fdca26"
             ],
             [
              1,
              "#f0f921"
             ]
            ],
            "type": "heatmapgl"
           }
          ],
          "histogram": [
           {
            "marker": {
             "pattern": {
              "fillmode": "overlay",
              "size": 10,
              "solidity": 0.2
             }
            },
            "type": "histogram"
           }
          ],
          "histogram2d": [
           {
            "colorbar": {
             "outlinewidth": 0,
             "ticks": ""
            },
            "colorscale": [
             [
              0,
              "#0d0887"
             ],
             [
              0.1111111111111111,
              "#46039f"
             ],
             [
              0.2222222222222222,
              "#7201a8"
             ],
             [
              0.3333333333333333,
              "#9c179e"
             ],
             [
              0.4444444444444444,
              "#bd3786"
             ],
             [
              0.5555555555555556,
              "#d8576b"
             ],
             [
              0.6666666666666666,
              "#ed7953"
             ],
             [
              0.7777777777777778,
              "#fb9f3a"
             ],
             [
              0.8888888888888888,
              "#fdca26"
             ],
             [
              1,
              "#f0f921"
             ]
            ],
            "type": "histogram2d"
           }
          ],
          "histogram2dcontour": [
           {
            "colorbar": {
             "outlinewidth": 0,
             "ticks": ""
            },
            "colorscale": [
             [
              0,
              "#0d0887"
             ],
             [
              0.1111111111111111,
              "#46039f"
             ],
             [
              0.2222222222222222,
              "#7201a8"
             ],
             [
              0.3333333333333333,
              "#9c179e"
             ],
             [
              0.4444444444444444,
              "#bd3786"
             ],
             [
              0.5555555555555556,
              "#d8576b"
             ],
             [
              0.6666666666666666,
              "#ed7953"
             ],
             [
              0.7777777777777778,
              "#fb9f3a"
             ],
             [
              0.8888888888888888,
              "#fdca26"
             ],
             [
              1,
              "#f0f921"
             ]
            ],
            "type": "histogram2dcontour"
           }
          ],
          "mesh3d": [
           {
            "colorbar": {
             "outlinewidth": 0,
             "ticks": ""
            },
            "type": "mesh3d"
           }
          ],
          "parcoords": [
           {
            "line": {
             "colorbar": {
              "outlinewidth": 0,
              "ticks": ""
             }
            },
            "type": "parcoords"
           }
          ],
          "pie": [
           {
            "automargin": true,
            "type": "pie"
           }
          ],
          "scatter": [
           {
            "fillpattern": {
             "fillmode": "overlay",
             "size": 10,
             "solidity": 0.2
            },
            "type": "scatter"
           }
          ],
          "scatter3d": [
           {
            "line": {
             "colorbar": {
              "outlinewidth": 0,
              "ticks": ""
             }
            },
            "marker": {
             "colorbar": {
              "outlinewidth": 0,
              "ticks": ""
             }
            },
            "type": "scatter3d"
           }
          ],
          "scattercarpet": [
           {
            "marker": {
             "colorbar": {
              "outlinewidth": 0,
              "ticks": ""
             }
            },
            "type": "scattercarpet"
           }
          ],
          "scattergeo": [
           {
            "marker": {
             "colorbar": {
              "outlinewidth": 0,
              "ticks": ""
             }
            },
            "type": "scattergeo"
           }
          ],
          "scattergl": [
           {
            "marker": {
             "colorbar": {
              "outlinewidth": 0,
              "ticks": ""
             }
            },
            "type": "scattergl"
           }
          ],
          "scattermapbox": [
           {
            "marker": {
             "colorbar": {
              "outlinewidth": 0,
              "ticks": ""
             }
            },
            "type": "scattermapbox"
           }
          ],
          "scatterpolar": [
           {
            "marker": {
             "colorbar": {
              "outlinewidth": 0,
              "ticks": ""
             }
            },
            "type": "scatterpolar"
           }
          ],
          "scatterpolargl": [
           {
            "marker": {
             "colorbar": {
              "outlinewidth": 0,
              "ticks": ""
             }
            },
            "type": "scatterpolargl"
           }
          ],
          "scatterternary": [
           {
            "marker": {
             "colorbar": {
              "outlinewidth": 0,
              "ticks": ""
             }
            },
            "type": "scatterternary"
           }
          ],
          "surface": [
           {
            "colorbar": {
             "outlinewidth": 0,
             "ticks": ""
            },
            "colorscale": [
             [
              0,
              "#0d0887"
             ],
             [
              0.1111111111111111,
              "#46039f"
             ],
             [
              0.2222222222222222,
              "#7201a8"
             ],
             [
              0.3333333333333333,
              "#9c179e"
             ],
             [
              0.4444444444444444,
              "#bd3786"
             ],
             [
              0.5555555555555556,
              "#d8576b"
             ],
             [
              0.6666666666666666,
              "#ed7953"
             ],
             [
              0.7777777777777778,
              "#fb9f3a"
             ],
             [
              0.8888888888888888,
              "#fdca26"
             ],
             [
              1,
              "#f0f921"
             ]
            ],
            "type": "surface"
           }
          ],
          "table": [
           {
            "cells": {
             "fill": {
              "color": "#EBF0F8"
             },
             "line": {
              "color": "white"
             }
            },
            "header": {
             "fill": {
              "color": "#C8D4E3"
             },
             "line": {
              "color": "white"
             }
            },
            "type": "table"
           }
          ]
         },
         "layout": {
          "annotationdefaults": {
           "arrowcolor": "#2a3f5f",
           "arrowhead": 0,
           "arrowwidth": 1
          },
          "autotypenumbers": "strict",
          "coloraxis": {
           "colorbar": {
            "outlinewidth": 0,
            "ticks": ""
           }
          },
          "colorscale": {
           "diverging": [
            [
             0,
             "#8e0152"
            ],
            [
             0.1,
             "#c51b7d"
            ],
            [
             0.2,
             "#de77ae"
            ],
            [
             0.3,
             "#f1b6da"
            ],
            [
             0.4,
             "#fde0ef"
            ],
            [
             0.5,
             "#f7f7f7"
            ],
            [
             0.6,
             "#e6f5d0"
            ],
            [
             0.7,
             "#b8e186"
            ],
            [
             0.8,
             "#7fbc41"
            ],
            [
             0.9,
             "#4d9221"
            ],
            [
             1,
             "#276419"
            ]
           ],
           "sequential": [
            [
             0,
             "#0d0887"
            ],
            [
             0.1111111111111111,
             "#46039f"
            ],
            [
             0.2222222222222222,
             "#7201a8"
            ],
            [
             0.3333333333333333,
             "#9c179e"
            ],
            [
             0.4444444444444444,
             "#bd3786"
            ],
            [
             0.5555555555555556,
             "#d8576b"
            ],
            [
             0.6666666666666666,
             "#ed7953"
            ],
            [
             0.7777777777777778,
             "#fb9f3a"
            ],
            [
             0.8888888888888888,
             "#fdca26"
            ],
            [
             1,
             "#f0f921"
            ]
           ],
           "sequentialminus": [
            [
             0,
             "#0d0887"
            ],
            [
             0.1111111111111111,
             "#46039f"
            ],
            [
             0.2222222222222222,
             "#7201a8"
            ],
            [
             0.3333333333333333,
             "#9c179e"
            ],
            [
             0.4444444444444444,
             "#bd3786"
            ],
            [
             0.5555555555555556,
             "#d8576b"
            ],
            [
             0.6666666666666666,
             "#ed7953"
            ],
            [
             0.7777777777777778,
             "#fb9f3a"
            ],
            [
             0.8888888888888888,
             "#fdca26"
            ],
            [
             1,
             "#f0f921"
            ]
           ]
          },
          "colorway": [
           "#636efa",
           "#EF553B",
           "#00cc96",
           "#ab63fa",
           "#FFA15A",
           "#19d3f3",
           "#FF6692",
           "#B6E880",
           "#FF97FF",
           "#FECB52"
          ],
          "font": {
           "color": "#2a3f5f"
          },
          "geo": {
           "bgcolor": "white",
           "lakecolor": "white",
           "landcolor": "#E5ECF6",
           "showlakes": true,
           "showland": true,
           "subunitcolor": "white"
          },
          "hoverlabel": {
           "align": "left"
          },
          "hovermode": "closest",
          "mapbox": {
           "style": "light"
          },
          "paper_bgcolor": "white",
          "plot_bgcolor": "#E5ECF6",
          "polar": {
           "angularaxis": {
            "gridcolor": "white",
            "linecolor": "white",
            "ticks": ""
           },
           "bgcolor": "#E5ECF6",
           "radialaxis": {
            "gridcolor": "white",
            "linecolor": "white",
            "ticks": ""
           }
          },
          "scene": {
           "xaxis": {
            "backgroundcolor": "#E5ECF6",
            "gridcolor": "white",
            "gridwidth": 2,
            "linecolor": "white",
            "showbackground": true,
            "ticks": "",
            "zerolinecolor": "white"
           },
           "yaxis": {
            "backgroundcolor": "#E5ECF6",
            "gridcolor": "white",
            "gridwidth": 2,
            "linecolor": "white",
            "showbackground": true,
            "ticks": "",
            "zerolinecolor": "white"
           },
           "zaxis": {
            "backgroundcolor": "#E5ECF6",
            "gridcolor": "white",
            "gridwidth": 2,
            "linecolor": "white",
            "showbackground": true,
            "ticks": "",
            "zerolinecolor": "white"
           }
          },
          "shapedefaults": {
           "line": {
            "color": "#2a3f5f"
           }
          },
          "ternary": {
           "aaxis": {
            "gridcolor": "white",
            "linecolor": "white",
            "ticks": ""
           },
           "baxis": {
            "gridcolor": "white",
            "linecolor": "white",
            "ticks": ""
           },
           "bgcolor": "#E5ECF6",
           "caxis": {
            "gridcolor": "white",
            "linecolor": "white",
            "ticks": ""
           }
          },
          "title": {
           "x": 0.05
          },
          "xaxis": {
           "automargin": true,
           "gridcolor": "white",
           "linecolor": "white",
           "ticks": "",
           "title": {
            "standoff": 15
           },
           "zerolinecolor": "white",
           "zerolinewidth": 2
          },
          "yaxis": {
           "automargin": true,
           "gridcolor": "white",
           "linecolor": "white",
           "ticks": "",
           "title": {
            "standoff": 15
           },
           "zerolinecolor": "white",
           "zerolinewidth": 2
          }
         }
        },
        "title": {
         "text": "p-value for each column"
        },
        "xaxis": {
         "anchor": "y",
         "domain": [
          0,
          1
         ],
         "title": {
          "text": "Column"
         }
        },
        "yaxis": {
         "anchor": "x",
         "domain": [
          0,
          1
         ],
         "title": {
          "text": "p-value"
         }
        }
       }
      }
     },
     "metadata": {},
     "output_type": "display_data"
    }
   ],
   "source": [
    "# plot ks_results_df\n",
    "fig = px.bar(ks_results_df, x='Column', y='KS Statistic', title='KS Statistic for each column')\n",
    "fig.show()\n",
    "\n",
    "fig = px.bar(ks_results_df, x='Column', y='p-value', title='p-value for each column')\n",
    "fig.show()"
   ]
  },
  {
   "cell_type": "code",
   "execution_count": 13,
   "metadata": {},
   "outputs": [
    {
     "data": {
      "application/vnd.plotly.v1+json": {
       "config": {
        "plotlyServerURL": "https://plot.ly"
       },
       "data": [
        {
         "alignmentgroup": "True",
         "bingroup": "x",
         "hovertemplate": "donorWeight=%{x}<br>count=%{y}<extra></extra>",
         "legendgroup": "",
         "marker": {
          "color": "#636efa",
          "pattern": {
           "shape": ""
          }
         },
         "name": "",
         "offsetgroup": "",
         "orientation": "v",
         "showlegend": false,
         "type": "histogram",
         "x": [
          75,
          55,
          22,
          70,
          70,
          60,
          80,
          69,
          70,
          80,
          80,
          77,
          80,
          77,
          80,
          100,
          46,
          76,
          75,
          54,
          60,
          60,
          68,
          70,
          60,
          60,
          94,
          79,
          60,
          68,
          80,
          62,
          51,
          70,
          53,
          53,
          80,
          85,
          70,
          80,
          60,
          60,
          85,
          95,
          67.5,
          80,
          93,
          90,
          75,
          85,
          75,
          85,
          85,
          50,
          90,
          68,
          80,
          85,
          65,
          70,
          70,
          69.8,
          70,
          100,
          95,
          65,
          80,
          98,
          75,
          65,
          70,
          73,
          60,
          90,
          65,
          68,
          70,
          75,
          82,
          85,
          43,
          95,
          60,
          70,
          45,
          90,
          75,
          80,
          70,
          70,
          60,
          60,
          70,
          70,
          74,
          65,
          75,
          70,
          65,
          65,
          70,
          75,
          90,
          75,
          70,
          76,
          65,
          60,
          30,
          95,
          28,
          100,
          85,
          60,
          60,
          84,
          65,
          90,
          80,
          25,
          90,
          80,
          90,
          90,
          96,
          75,
          75,
          85,
          85,
          87,
          70,
          70,
          70,
          85,
          85,
          78,
          110,
          60,
          70,
          75,
          70,
          75,
          70,
          70,
          55,
          70,
          65,
          80,
          80,
          78,
          53.2,
          60,
          70,
          68,
          130,
          60,
          75,
          60,
          85,
          85,
          78,
          90,
          90,
          52,
          70,
          90,
          65,
          80,
          75,
          75,
          65,
          80,
          65,
          14,
          70,
          62,
          65,
          65,
          100,
          95,
          60,
          65,
          75,
          110,
          66,
          90,
          90,
          65,
          60,
          95,
          70,
          70,
          75,
          75,
          75,
          70,
          90,
          60,
          60,
          72,
          105,
          70,
          64,
          74,
          65,
          65,
          75,
          90,
          18,
          90,
          70,
          70,
          70,
          68,
          90,
          50,
          82,
          110,
          77,
          14,
          91,
          65,
          95,
          75,
          70,
          63,
          87,
          38,
          72,
          60,
          85,
          60,
          60,
          60,
          100,
          90,
          58,
          63,
          63,
          60,
          53,
          70,
          80,
          80,
          73,
          60,
          120,
          90,
          42,
          78,
          85,
          80,
          70,
          90,
          60,
          75,
          80,
          75,
          48,
          48,
          80,
          78,
          80,
          80,
          70,
          100,
          70,
          70,
          75,
          70,
          85,
          72,
          85,
          60,
          25,
          80,
          80,
          72,
          70,
          90,
          90,
          70,
          80,
          80,
          80,
          65,
          65,
          75,
          75,
          80,
          80,
          80,
          75,
          60,
          85,
          19,
          60,
          75,
          85,
          65,
          100,
          100,
          74,
          70,
          58,
          68,
          70,
          80,
          93,
          55,
          95,
          67,
          67,
          60,
          87,
          87,
          86,
          70,
          70,
          90,
          78,
          75,
          80,
          65,
          94,
          70,
          94,
          94,
          65,
          68,
          82,
          50,
          75,
          75,
          80,
          70,
          70,
          70,
          65,
          55,
          75,
          55,
          85,
          90,
          70,
          70,
          60,
          80,
          70,
          67,
          65,
          80,
          65,
          70,
          80,
          80,
          75,
          75,
          60,
          60,
          28.7,
          76,
          60,
          85,
          60,
          55,
          70,
          20,
          70,
          75,
          70,
          80,
          68,
          75,
          75,
          85,
          85,
          65,
          65,
          60,
          60,
          52,
          70,
          77,
          95,
          65,
          68,
          80,
          100,
          100,
          80,
          65,
          60,
          87,
          60,
          65,
          80,
          80,
          80,
          60,
          90,
          95,
          95,
          75,
          95,
          59,
          50,
          90,
          80,
          70,
          80,
          75,
          68,
          70,
          85,
          65,
          70,
          92,
          70,
          70,
          71.6,
          90,
          76,
          70,
          70,
          70,
          52,
          70,
          70,
          65,
          70,
          68,
          64,
          66,
          95,
          48,
          110,
          75,
          90,
          75,
          75,
          120,
          70,
          70,
          70,
          90,
          68,
          44,
          80,
          75,
          65,
          75,
          90,
          85,
          85,
          61,
          70,
          70,
          77,
          69,
          90,
          60,
          65,
          85,
          75,
          85,
          69,
          90,
          80,
          70,
          45,
          85,
          75,
          63,
          75,
          65,
          75,
          65,
          85,
          75,
          68,
          100,
          62,
          80,
          76,
          70,
          70,
          80,
          85,
          70,
          48,
          90,
          60,
          72,
          72,
          67,
          100,
          90,
          70,
          70,
          70,
          65,
          84,
          75,
          59,
          70,
          75,
          49,
          90,
          90,
          104,
          60,
          35,
          80,
          76,
          75,
          69.5,
          65,
          55,
          67,
          70,
          90,
          75,
          55,
          55,
          55,
          86,
          60,
          60,
          85,
          85,
          110,
          60,
          80,
          37,
          75,
          90,
          70,
          82,
          100,
          108,
          90,
          60,
          82,
          80,
          100,
          55,
          65,
          60,
          55,
          73,
          80,
          85,
          65,
          80,
          57,
          75,
          64,
          70,
          70,
          65,
          65,
          65,
          85,
          70,
          69,
          60,
          70,
          70,
          80,
          70,
          70,
          70,
          64,
          70,
          100,
          85,
          60,
          60,
          75,
          120,
          77,
          70,
          75,
          75,
          22,
          75,
          70,
          70,
          73,
          75,
          70,
          70,
          75,
          75,
          73,
          80,
          60,
          73.6,
          75,
          85,
          85,
          65,
          70,
          75,
          78,
          75,
          75,
          70,
          60,
          43,
          73,
          74,
          74,
          70,
          80,
          62,
          60,
          95,
          69,
          85,
          70,
          65,
          65,
          61,
          73,
          70,
          61,
          90,
          65,
          107,
          110,
          80,
          108,
          80,
          68,
          60,
          75,
          90,
          60,
          75,
          65,
          66,
          40,
          50,
          50,
          60,
          80,
          60,
          40,
          65,
          80,
          107,
          64,
          70,
          68,
          68,
          47,
          40,
          70,
          60,
          100,
          90,
          55,
          100,
          50,
          70,
          70,
          65,
          70,
          90,
          70,
          70,
          90,
          70,
          65,
          70,
          85,
          80,
          70,
          78,
          60,
          75,
          100,
          60,
          84,
          70,
          65,
          94,
          70,
          85,
          100,
          70,
          110,
          110,
          54,
          55,
          85,
          66,
          75,
          68,
          71,
          70,
          73,
          80,
          75,
          68,
          70,
          82,
          90,
          70,
          71,
          95,
          75,
          75,
          80,
          67,
          60,
          130,
          85,
          75,
          78,
          65,
          80,
          90,
          75,
          80,
          68,
          68,
          110,
          28,
          60,
          58,
          80,
          65,
          68,
          68,
          74,
          65,
          93,
          93,
          68,
          80,
          100,
          70,
          65,
          40,
          64,
          75,
          75,
          100,
          100,
          90,
          93,
          90,
          71,
          105,
          70,
          80,
          80,
          80,
          75,
          81,
          77,
          85,
          110,
          33,
          85,
          60,
          87,
          70,
          85,
          58,
          95,
          110,
          65,
          80,
          90,
          90,
          80,
          90,
          70,
          80,
          105,
          70,
          61,
          52,
          65,
          65,
          107,
          75,
          70,
          80,
          90,
          70,
          55,
          90,
          70,
          75,
          65,
          60,
          110,
          62,
          60,
          70,
          70,
          70,
          80,
          76,
          75,
          85,
          72,
          100,
          60,
          90,
          70,
          90,
          65,
          51,
          53,
          68,
          75,
          80,
          55
         ],
         "xaxis": "x",
         "yaxis": "y"
        }
       ],
       "layout": {
        "barmode": "relative",
        "legend": {
         "tracegroupgap": 0
        },
        "template": {
         "data": {
          "bar": [
           {
            "error_x": {
             "color": "#2a3f5f"
            },
            "error_y": {
             "color": "#2a3f5f"
            },
            "marker": {
             "line": {
              "color": "#E5ECF6",
              "width": 0.5
             },
             "pattern": {
              "fillmode": "overlay",
              "size": 10,
              "solidity": 0.2
             }
            },
            "type": "bar"
           }
          ],
          "barpolar": [
           {
            "marker": {
             "line": {
              "color": "#E5ECF6",
              "width": 0.5
             },
             "pattern": {
              "fillmode": "overlay",
              "size": 10,
              "solidity": 0.2
             }
            },
            "type": "barpolar"
           }
          ],
          "carpet": [
           {
            "aaxis": {
             "endlinecolor": "#2a3f5f",
             "gridcolor": "white",
             "linecolor": "white",
             "minorgridcolor": "white",
             "startlinecolor": "#2a3f5f"
            },
            "baxis": {
             "endlinecolor": "#2a3f5f",
             "gridcolor": "white",
             "linecolor": "white",
             "minorgridcolor": "white",
             "startlinecolor": "#2a3f5f"
            },
            "type": "carpet"
           }
          ],
          "choropleth": [
           {
            "colorbar": {
             "outlinewidth": 0,
             "ticks": ""
            },
            "type": "choropleth"
           }
          ],
          "contour": [
           {
            "colorbar": {
             "outlinewidth": 0,
             "ticks": ""
            },
            "colorscale": [
             [
              0,
              "#0d0887"
             ],
             [
              0.1111111111111111,
              "#46039f"
             ],
             [
              0.2222222222222222,
              "#7201a8"
             ],
             [
              0.3333333333333333,
              "#9c179e"
             ],
             [
              0.4444444444444444,
              "#bd3786"
             ],
             [
              0.5555555555555556,
              "#d8576b"
             ],
             [
              0.6666666666666666,
              "#ed7953"
             ],
             [
              0.7777777777777778,
              "#fb9f3a"
             ],
             [
              0.8888888888888888,
              "#fdca26"
             ],
             [
              1,
              "#f0f921"
             ]
            ],
            "type": "contour"
           }
          ],
          "contourcarpet": [
           {
            "colorbar": {
             "outlinewidth": 0,
             "ticks": ""
            },
            "type": "contourcarpet"
           }
          ],
          "heatmap": [
           {
            "colorbar": {
             "outlinewidth": 0,
             "ticks": ""
            },
            "colorscale": [
             [
              0,
              "#0d0887"
             ],
             [
              0.1111111111111111,
              "#46039f"
             ],
             [
              0.2222222222222222,
              "#7201a8"
             ],
             [
              0.3333333333333333,
              "#9c179e"
             ],
             [
              0.4444444444444444,
              "#bd3786"
             ],
             [
              0.5555555555555556,
              "#d8576b"
             ],
             [
              0.6666666666666666,
              "#ed7953"
             ],
             [
              0.7777777777777778,
              "#fb9f3a"
             ],
             [
              0.8888888888888888,
              "#fdca26"
             ],
             [
              1,
              "#f0f921"
             ]
            ],
            "type": "heatmap"
           }
          ],
          "heatmapgl": [
           {
            "colorbar": {
             "outlinewidth": 0,
             "ticks": ""
            },
            "colorscale": [
             [
              0,
              "#0d0887"
             ],
             [
              0.1111111111111111,
              "#46039f"
             ],
             [
              0.2222222222222222,
              "#7201a8"
             ],
             [
              0.3333333333333333,
              "#9c179e"
             ],
             [
              0.4444444444444444,
              "#bd3786"
             ],
             [
              0.5555555555555556,
              "#d8576b"
             ],
             [
              0.6666666666666666,
              "#ed7953"
             ],
             [
              0.7777777777777778,
              "#fb9f3a"
             ],
             [
              0.8888888888888888,
              "#fdca26"
             ],
             [
              1,
              "#f0f921"
             ]
            ],
            "type": "heatmapgl"
           }
          ],
          "histogram": [
           {
            "marker": {
             "pattern": {
              "fillmode": "overlay",
              "size": 10,
              "solidity": 0.2
             }
            },
            "type": "histogram"
           }
          ],
          "histogram2d": [
           {
            "colorbar": {
             "outlinewidth": 0,
             "ticks": ""
            },
            "colorscale": [
             [
              0,
              "#0d0887"
             ],
             [
              0.1111111111111111,
              "#46039f"
             ],
             [
              0.2222222222222222,
              "#7201a8"
             ],
             [
              0.3333333333333333,
              "#9c179e"
             ],
             [
              0.4444444444444444,
              "#bd3786"
             ],
             [
              0.5555555555555556,
              "#d8576b"
             ],
             [
              0.6666666666666666,
              "#ed7953"
             ],
             [
              0.7777777777777778,
              "#fb9f3a"
             ],
             [
              0.8888888888888888,
              "#fdca26"
             ],
             [
              1,
              "#f0f921"
             ]
            ],
            "type": "histogram2d"
           }
          ],
          "histogram2dcontour": [
           {
            "colorbar": {
             "outlinewidth": 0,
             "ticks": ""
            },
            "colorscale": [
             [
              0,
              "#0d0887"
             ],
             [
              0.1111111111111111,
              "#46039f"
             ],
             [
              0.2222222222222222,
              "#7201a8"
             ],
             [
              0.3333333333333333,
              "#9c179e"
             ],
             [
              0.4444444444444444,
              "#bd3786"
             ],
             [
              0.5555555555555556,
              "#d8576b"
             ],
             [
              0.6666666666666666,
              "#ed7953"
             ],
             [
              0.7777777777777778,
              "#fb9f3a"
             ],
             [
              0.8888888888888888,
              "#fdca26"
             ],
             [
              1,
              "#f0f921"
             ]
            ],
            "type": "histogram2dcontour"
           }
          ],
          "mesh3d": [
           {
            "colorbar": {
             "outlinewidth": 0,
             "ticks": ""
            },
            "type": "mesh3d"
           }
          ],
          "parcoords": [
           {
            "line": {
             "colorbar": {
              "outlinewidth": 0,
              "ticks": ""
             }
            },
            "type": "parcoords"
           }
          ],
          "pie": [
           {
            "automargin": true,
            "type": "pie"
           }
          ],
          "scatter": [
           {
            "fillpattern": {
             "fillmode": "overlay",
             "size": 10,
             "solidity": 0.2
            },
            "type": "scatter"
           }
          ],
          "scatter3d": [
           {
            "line": {
             "colorbar": {
              "outlinewidth": 0,
              "ticks": ""
             }
            },
            "marker": {
             "colorbar": {
              "outlinewidth": 0,
              "ticks": ""
             }
            },
            "type": "scatter3d"
           }
          ],
          "scattercarpet": [
           {
            "marker": {
             "colorbar": {
              "outlinewidth": 0,
              "ticks": ""
             }
            },
            "type": "scattercarpet"
           }
          ],
          "scattergeo": [
           {
            "marker": {
             "colorbar": {
              "outlinewidth": 0,
              "ticks": ""
             }
            },
            "type": "scattergeo"
           }
          ],
          "scattergl": [
           {
            "marker": {
             "colorbar": {
              "outlinewidth": 0,
              "ticks": ""
             }
            },
            "type": "scattergl"
           }
          ],
          "scattermapbox": [
           {
            "marker": {
             "colorbar": {
              "outlinewidth": 0,
              "ticks": ""
             }
            },
            "type": "scattermapbox"
           }
          ],
          "scatterpolar": [
           {
            "marker": {
             "colorbar": {
              "outlinewidth": 0,
              "ticks": ""
             }
            },
            "type": "scatterpolar"
           }
          ],
          "scatterpolargl": [
           {
            "marker": {
             "colorbar": {
              "outlinewidth": 0,
              "ticks": ""
             }
            },
            "type": "scatterpolargl"
           }
          ],
          "scatterternary": [
           {
            "marker": {
             "colorbar": {
              "outlinewidth": 0,
              "ticks": ""
             }
            },
            "type": "scatterternary"
           }
          ],
          "surface": [
           {
            "colorbar": {
             "outlinewidth": 0,
             "ticks": ""
            },
            "colorscale": [
             [
              0,
              "#0d0887"
             ],
             [
              0.1111111111111111,
              "#46039f"
             ],
             [
              0.2222222222222222,
              "#7201a8"
             ],
             [
              0.3333333333333333,
              "#9c179e"
             ],
             [
              0.4444444444444444,
              "#bd3786"
             ],
             [
              0.5555555555555556,
              "#d8576b"
             ],
             [
              0.6666666666666666,
              "#ed7953"
             ],
             [
              0.7777777777777778,
              "#fb9f3a"
             ],
             [
              0.8888888888888888,
              "#fdca26"
             ],
             [
              1,
              "#f0f921"
             ]
            ],
            "type": "surface"
           }
          ],
          "table": [
           {
            "cells": {
             "fill": {
              "color": "#EBF0F8"
             },
             "line": {
              "color": "white"
             }
            },
            "header": {
             "fill": {
              "color": "#C8D4E3"
             },
             "line": {
              "color": "white"
             }
            },
            "type": "table"
           }
          ]
         },
         "layout": {
          "annotationdefaults": {
           "arrowcolor": "#2a3f5f",
           "arrowhead": 0,
           "arrowwidth": 1
          },
          "autotypenumbers": "strict",
          "coloraxis": {
           "colorbar": {
            "outlinewidth": 0,
            "ticks": ""
           }
          },
          "colorscale": {
           "diverging": [
            [
             0,
             "#8e0152"
            ],
            [
             0.1,
             "#c51b7d"
            ],
            [
             0.2,
             "#de77ae"
            ],
            [
             0.3,
             "#f1b6da"
            ],
            [
             0.4,
             "#fde0ef"
            ],
            [
             0.5,
             "#f7f7f7"
            ],
            [
             0.6,
             "#e6f5d0"
            ],
            [
             0.7,
             "#b8e186"
            ],
            [
             0.8,
             "#7fbc41"
            ],
            [
             0.9,
             "#4d9221"
            ],
            [
             1,
             "#276419"
            ]
           ],
           "sequential": [
            [
             0,
             "#0d0887"
            ],
            [
             0.1111111111111111,
             "#46039f"
            ],
            [
             0.2222222222222222,
             "#7201a8"
            ],
            [
             0.3333333333333333,
             "#9c179e"
            ],
            [
             0.4444444444444444,
             "#bd3786"
            ],
            [
             0.5555555555555556,
             "#d8576b"
            ],
            [
             0.6666666666666666,
             "#ed7953"
            ],
            [
             0.7777777777777778,
             "#fb9f3a"
            ],
            [
             0.8888888888888888,
             "#fdca26"
            ],
            [
             1,
             "#f0f921"
            ]
           ],
           "sequentialminus": [
            [
             0,
             "#0d0887"
            ],
            [
             0.1111111111111111,
             "#46039f"
            ],
            [
             0.2222222222222222,
             "#7201a8"
            ],
            [
             0.3333333333333333,
             "#9c179e"
            ],
            [
             0.4444444444444444,
             "#bd3786"
            ],
            [
             0.5555555555555556,
             "#d8576b"
            ],
            [
             0.6666666666666666,
             "#ed7953"
            ],
            [
             0.7777777777777778,
             "#fb9f3a"
            ],
            [
             0.8888888888888888,
             "#fdca26"
            ],
            [
             1,
             "#f0f921"
            ]
           ]
          },
          "colorway": [
           "#636efa",
           "#EF553B",
           "#00cc96",
           "#ab63fa",
           "#FFA15A",
           "#19d3f3",
           "#FF6692",
           "#B6E880",
           "#FF97FF",
           "#FECB52"
          ],
          "font": {
           "color": "#2a3f5f"
          },
          "geo": {
           "bgcolor": "white",
           "lakecolor": "white",
           "landcolor": "#E5ECF6",
           "showlakes": true,
           "showland": true,
           "subunitcolor": "white"
          },
          "hoverlabel": {
           "align": "left"
          },
          "hovermode": "closest",
          "mapbox": {
           "style": "light"
          },
          "paper_bgcolor": "white",
          "plot_bgcolor": "#E5ECF6",
          "polar": {
           "angularaxis": {
            "gridcolor": "white",
            "linecolor": "white",
            "ticks": ""
           },
           "bgcolor": "#E5ECF6",
           "radialaxis": {
            "gridcolor": "white",
            "linecolor": "white",
            "ticks": ""
           }
          },
          "scene": {
           "xaxis": {
            "backgroundcolor": "#E5ECF6",
            "gridcolor": "white",
            "gridwidth": 2,
            "linecolor": "white",
            "showbackground": true,
            "ticks": "",
            "zerolinecolor": "white"
           },
           "yaxis": {
            "backgroundcolor": "#E5ECF6",
            "gridcolor": "white",
            "gridwidth": 2,
            "linecolor": "white",
            "showbackground": true,
            "ticks": "",
            "zerolinecolor": "white"
           },
           "zaxis": {
            "backgroundcolor": "#E5ECF6",
            "gridcolor": "white",
            "gridwidth": 2,
            "linecolor": "white",
            "showbackground": true,
            "ticks": "",
            "zerolinecolor": "white"
           }
          },
          "shapedefaults": {
           "line": {
            "color": "#2a3f5f"
           }
          },
          "ternary": {
           "aaxis": {
            "gridcolor": "white",
            "linecolor": "white",
            "ticks": ""
           },
           "baxis": {
            "gridcolor": "white",
            "linecolor": "white",
            "ticks": ""
           },
           "bgcolor": "#E5ECF6",
           "caxis": {
            "gridcolor": "white",
            "linecolor": "white",
            "ticks": ""
           }
          },
          "title": {
           "x": 0.05
          },
          "xaxis": {
           "automargin": true,
           "gridcolor": "white",
           "linecolor": "white",
           "ticks": "",
           "title": {
            "standoff": 15
           },
           "zerolinecolor": "white",
           "zerolinewidth": 2
          },
          "yaxis": {
           "automargin": true,
           "gridcolor": "white",
           "linecolor": "white",
           "ticks": "",
           "title": {
            "standoff": 15
           },
           "zerolinecolor": "white",
           "zerolinewidth": 2
          }
         }
        },
        "title": {
         "text": "donorWeight distribution in real data"
        },
        "xaxis": {
         "anchor": "y",
         "domain": [
          0,
          1
         ],
         "range": [
          0,
          150
         ],
         "title": {
          "text": "donorWeight"
         }
        },
        "yaxis": {
         "anchor": "x",
         "domain": [
          0,
          1
         ],
         "title": {
          "text": "count"
         }
        }
       }
      }
     },
     "metadata": {},
     "output_type": "display_data"
    },
    {
     "data": {
      "application/vnd.plotly.v1+json": {
       "config": {
        "plotlyServerURL": "https://plot.ly"
       },
       "data": [
        {
         "alignmentgroup": "True",
         "bingroup": "x",
         "hovertemplate": "donorWeight=%{x}<br>count=%{y}<extra></extra>",
         "legendgroup": "",
         "marker": {
          "color": "#636efa",
          "pattern": {
           "shape": ""
          }
         },
         "name": "",
         "offsetgroup": "",
         "orientation": "v",
         "showlegend": false,
         "type": "histogram",
         "x": [
          75,
          55,
          23,
          72,
          74,
          63,
          84,
          73,
          75,
          84,
          81,
          73,
          77,
          75,
          84,
          95,
          45,
          70,
          77,
          57,
          56,
          60,
          72,
          68,
          63,
          58,
          86,
          76,
          56,
          72,
          83,
          65,
          47,
          69,
          52,
          55,
          84,
          91,
          69,
          74,
          62,
          56,
          90,
          98,
          72,
          77,
          96,
          83,
          72,
          85,
          70,
          85,
          81,
          50,
          86,
          62,
          82,
          84,
          60,
          68,
          66,
          67,
          69,
          95,
          91,
          68,
          79,
          93,
          79,
          69,
          64,
          77,
          64,
          89,
          69,
          67,
          65,
          78,
          84,
          87,
          42,
          96,
          55,
          66,
          45,
          93,
          69,
          78,
          67,
          71,
          62,
          56,
          74,
          73,
          68,
          62,
          77,
          69,
          68,
          63,
          67,
          69,
          82,
          76,
          70,
          82,
          61,
          55,
          30,
          101,
          29,
          94,
          90,
          59,
          63,
          84,
          59,
          84,
          79,
          26,
          89,
          85,
          85,
          96,
          90,
          78,
          70,
          86,
          83,
          80,
          74,
          64,
          65,
          90,
          78,
          72,
          117,
          55,
          71,
          73,
          75,
          73,
          75,
          68,
          55,
          73,
          62,
          78,
          76,
          79,
          55,
          58,
          69,
          64,
          133,
          63,
          75,
          60,
          89,
          78,
          79,
          91,
          88,
          49,
          68,
          88,
          60,
          77,
          73,
          78,
          70,
          84,
          64,
          15,
          74,
          58,
          62,
          62,
          103,
          95,
          60,
          63,
          69,
          108,
          65,
          83,
          89,
          65,
          63,
          88,
          70,
          72,
          79,
          71,
          73,
          68,
          90,
          57,
          58,
          75,
          104,
          75,
          59,
          68,
          61,
          70,
          78,
          89,
          18,
          83,
          65,
          75,
          71,
          65,
          90,
          48,
          83,
          115,
          76,
          13,
          84,
          66,
          88,
          71,
          68,
          65,
          80,
          36,
          76,
          60,
          80,
          56,
          60,
          55,
          97,
          86,
          54,
          60,
          67,
          61,
          50,
          74,
          82,
          80,
          70,
          64,
          123,
          89,
          42,
          73,
          91,
          85,
          74,
          96,
          57,
          71,
          74,
          73,
          46,
          51,
          83,
          73,
          77,
          76,
          67,
          98,
          72,
          70,
          79,
          73,
          91,
          70,
          86,
          57,
          26,
          74,
          85,
          71,
          75,
          84,
          89,
          72,
          73,
          86,
          80,
          60,
          67,
          79,
          78,
          81,
          80,
          75,
          80,
          59,
          83,
          18,
          58,
          76,
          88,
          63,
          96,
          101,
          76,
          70,
          58,
          66,
          68,
          74,
          91,
          51,
          102,
          66,
          68,
          58,
          80,
          89,
          80,
          70,
          73,
          96,
          73,
          76,
          86,
          62,
          90,
          65,
          98,
          99,
          65,
          67,
          84,
          49,
          72,
          76,
          74,
          68,
          74,
          69,
          63,
          58,
          77,
          50,
          88,
          86,
          69,
          67,
          63,
          85,
          73,
          69,
          63,
          86,
          66,
          70,
          74,
          77,
          70,
          76,
          63,
          60,
          28,
          79,
          64,
          84,
          61,
          55,
          68,
          21,
          64,
          68,
          66,
          78,
          62,
          76,
          75,
          78,
          87,
          63,
          67,
          55,
          62,
          53,
          69,
          79,
          100,
          61,
          68,
          79,
          91,
          107,
          75,
          68,
          63,
          81,
          64,
          63,
          75,
          85,
          84,
          58,
          93,
          102,
          93,
          71,
          96,
          59,
          46,
          93,
          74,
          67,
          79,
          77,
          72,
          67,
          81,
          65,
          68,
          94,
          64,
          74,
          74,
          95,
          71,
          64,
          73,
          73,
          49,
          73,
          67,
          66,
          71,
          64,
          66,
          68,
          88,
          49,
          111,
          79,
          96,
          72,
          80,
          124,
          72,
          72,
          65,
          95,
          65,
          41,
          76,
          70,
          66,
          76,
          91,
          91,
          85,
          60,
          64,
          66,
          76,
          64,
          92,
          61,
          60,
          81,
          77,
          89,
          64,
          83,
          86,
          73,
          46,
          81,
          76,
          65,
          72,
          64,
          74,
          64,
          84,
          78,
          67,
          108,
          57,
          81,
          73,
          68,
          66,
          75,
          83,
          69,
          46,
          96,
          55,
          72,
          77,
          67,
          103,
          85,
          68,
          74,
          74,
          64,
          89,
          72,
          58,
          72,
          71,
          46,
          92,
          87,
          111,
          55,
          33,
          82,
          81,
          75,
          72,
          66,
          57,
          61,
          73,
          83,
          70,
          54,
          56,
          55,
          85,
          58,
          58,
          84,
          90,
          101,
          63,
          83,
          36,
          74,
          93,
          70,
          87,
          98,
          116,
          93,
          57,
          78,
          83,
          102,
          52,
          66,
          55,
          57,
          70,
          84,
          81,
          64,
          83,
          56,
          79,
          63,
          73,
          74,
          67,
          62,
          59,
          89,
          68,
          71,
          62,
          74,
          72,
          81,
          69,
          70,
          70,
          65,
          73,
          107,
          88,
          57,
          62,
          74,
          110,
          78,
          66,
          79,
          69,
          21,
          72,
          67,
          72,
          70,
          71,
          74,
          75,
          77,
          80,
          67,
          82,
          56,
          77,
          69,
          82,
          84,
          60,
          75,
          77,
          73,
          69,
          69,
          73,
          58,
          44,
          67,
          76,
          71,
          70,
          77,
          57,
          59,
          97,
          69,
          88,
          69,
          64,
          63,
          56,
          71,
          71,
          59,
          92,
          66,
          100,
          113,
          85,
          115,
          77,
          63,
          56,
          80,
          95,
          57,
          76,
          60,
          62,
          41,
          48,
          52,
          56,
          78,
          62,
          38,
          64,
          83,
          113,
          66,
          65,
          64,
          73,
          47,
          39,
          68,
          59,
          94,
          88,
          51,
          101,
          46,
          74,
          73,
          64,
          65,
          86,
          73,
          67,
          92,
          74,
          62,
          65,
          83,
          77,
          65,
          71,
          57,
          79,
          106,
          61,
          83,
          68,
          63,
          87,
          69,
          86,
          95,
          70,
          114,
          104,
          51,
          50,
          83,
          61,
          77,
          66,
          72,
          70,
          71,
          81,
          69,
          66,
          68,
          80,
          82,
          66,
          68,
          93,
          72,
          71,
          74,
          72,
          57,
          139,
          79,
          70,
          79,
          65,
          73,
          88,
          74,
          76,
          64,
          71,
          104,
          29,
          62,
          56,
          76,
          67,
          72,
          65,
          76,
          68,
          91,
          98,
          66,
          84,
          105,
          68,
          61,
          43,
          64,
          78,
          70,
          102,
          107,
          92,
          93,
          89,
          68,
          104,
          72,
          74,
          83,
          85,
          81,
          74,
          77,
          91,
          111,
          31,
          90,
          56,
          91,
          73,
          87,
          59,
          100,
          104,
          66,
          83,
          89,
          97,
          77,
          92,
          70,
          76,
          110,
          67,
          61,
          52,
          59,
          61,
          112,
          79,
          67,
          85,
          89,
          75,
          59,
          87,
          69,
          75,
          63,
          61,
          118,
          58,
          63,
          64,
          73,
          72,
          80,
          73,
          78,
          91,
          74,
          104,
          62,
          96,
          67,
          88,
          66,
          49,
          54,
          65,
          78,
          81,
          53
         ],
         "xaxis": "x",
         "yaxis": "y"
        }
       ],
       "layout": {
        "barmode": "relative",
        "legend": {
         "tracegroupgap": 0
        },
        "template": {
         "data": {
          "bar": [
           {
            "error_x": {
             "color": "#2a3f5f"
            },
            "error_y": {
             "color": "#2a3f5f"
            },
            "marker": {
             "line": {
              "color": "#E5ECF6",
              "width": 0.5
             },
             "pattern": {
              "fillmode": "overlay",
              "size": 10,
              "solidity": 0.2
             }
            },
            "type": "bar"
           }
          ],
          "barpolar": [
           {
            "marker": {
             "line": {
              "color": "#E5ECF6",
              "width": 0.5
             },
             "pattern": {
              "fillmode": "overlay",
              "size": 10,
              "solidity": 0.2
             }
            },
            "type": "barpolar"
           }
          ],
          "carpet": [
           {
            "aaxis": {
             "endlinecolor": "#2a3f5f",
             "gridcolor": "white",
             "linecolor": "white",
             "minorgridcolor": "white",
             "startlinecolor": "#2a3f5f"
            },
            "baxis": {
             "endlinecolor": "#2a3f5f",
             "gridcolor": "white",
             "linecolor": "white",
             "minorgridcolor": "white",
             "startlinecolor": "#2a3f5f"
            },
            "type": "carpet"
           }
          ],
          "choropleth": [
           {
            "colorbar": {
             "outlinewidth": 0,
             "ticks": ""
            },
            "type": "choropleth"
           }
          ],
          "contour": [
           {
            "colorbar": {
             "outlinewidth": 0,
             "ticks": ""
            },
            "colorscale": [
             [
              0,
              "#0d0887"
             ],
             [
              0.1111111111111111,
              "#46039f"
             ],
             [
              0.2222222222222222,
              "#7201a8"
             ],
             [
              0.3333333333333333,
              "#9c179e"
             ],
             [
              0.4444444444444444,
              "#bd3786"
             ],
             [
              0.5555555555555556,
              "#d8576b"
             ],
             [
              0.6666666666666666,
              "#ed7953"
             ],
             [
              0.7777777777777778,
              "#fb9f3a"
             ],
             [
              0.8888888888888888,
              "#fdca26"
             ],
             [
              1,
              "#f0f921"
             ]
            ],
            "type": "contour"
           }
          ],
          "contourcarpet": [
           {
            "colorbar": {
             "outlinewidth": 0,
             "ticks": ""
            },
            "type": "contourcarpet"
           }
          ],
          "heatmap": [
           {
            "colorbar": {
             "outlinewidth": 0,
             "ticks": ""
            },
            "colorscale": [
             [
              0,
              "#0d0887"
             ],
             [
              0.1111111111111111,
              "#46039f"
             ],
             [
              0.2222222222222222,
              "#7201a8"
             ],
             [
              0.3333333333333333,
              "#9c179e"
             ],
             [
              0.4444444444444444,
              "#bd3786"
             ],
             [
              0.5555555555555556,
              "#d8576b"
             ],
             [
              0.6666666666666666,
              "#ed7953"
             ],
             [
              0.7777777777777778,
              "#fb9f3a"
             ],
             [
              0.8888888888888888,
              "#fdca26"
             ],
             [
              1,
              "#f0f921"
             ]
            ],
            "type": "heatmap"
           }
          ],
          "heatmapgl": [
           {
            "colorbar": {
             "outlinewidth": 0,
             "ticks": ""
            },
            "colorscale": [
             [
              0,
              "#0d0887"
             ],
             [
              0.1111111111111111,
              "#46039f"
             ],
             [
              0.2222222222222222,
              "#7201a8"
             ],
             [
              0.3333333333333333,
              "#9c179e"
             ],
             [
              0.4444444444444444,
              "#bd3786"
             ],
             [
              0.5555555555555556,
              "#d8576b"
             ],
             [
              0.6666666666666666,
              "#ed7953"
             ],
             [
              0.7777777777777778,
              "#fb9f3a"
             ],
             [
              0.8888888888888888,
              "#fdca26"
             ],
             [
              1,
              "#f0f921"
             ]
            ],
            "type": "heatmapgl"
           }
          ],
          "histogram": [
           {
            "marker": {
             "pattern": {
              "fillmode": "overlay",
              "size": 10,
              "solidity": 0.2
             }
            },
            "type": "histogram"
           }
          ],
          "histogram2d": [
           {
            "colorbar": {
             "outlinewidth": 0,
             "ticks": ""
            },
            "colorscale": [
             [
              0,
              "#0d0887"
             ],
             [
              0.1111111111111111,
              "#46039f"
             ],
             [
              0.2222222222222222,
              "#7201a8"
             ],
             [
              0.3333333333333333,
              "#9c179e"
             ],
             [
              0.4444444444444444,
              "#bd3786"
             ],
             [
              0.5555555555555556,
              "#d8576b"
             ],
             [
              0.6666666666666666,
              "#ed7953"
             ],
             [
              0.7777777777777778,
              "#fb9f3a"
             ],
             [
              0.8888888888888888,
              "#fdca26"
             ],
             [
              1,
              "#f0f921"
             ]
            ],
            "type": "histogram2d"
           }
          ],
          "histogram2dcontour": [
           {
            "colorbar": {
             "outlinewidth": 0,
             "ticks": ""
            },
            "colorscale": [
             [
              0,
              "#0d0887"
             ],
             [
              0.1111111111111111,
              "#46039f"
             ],
             [
              0.2222222222222222,
              "#7201a8"
             ],
             [
              0.3333333333333333,
              "#9c179e"
             ],
             [
              0.4444444444444444,
              "#bd3786"
             ],
             [
              0.5555555555555556,
              "#d8576b"
             ],
             [
              0.6666666666666666,
              "#ed7953"
             ],
             [
              0.7777777777777778,
              "#fb9f3a"
             ],
             [
              0.8888888888888888,
              "#fdca26"
             ],
             [
              1,
              "#f0f921"
             ]
            ],
            "type": "histogram2dcontour"
           }
          ],
          "mesh3d": [
           {
            "colorbar": {
             "outlinewidth": 0,
             "ticks": ""
            },
            "type": "mesh3d"
           }
          ],
          "parcoords": [
           {
            "line": {
             "colorbar": {
              "outlinewidth": 0,
              "ticks": ""
             }
            },
            "type": "parcoords"
           }
          ],
          "pie": [
           {
            "automargin": true,
            "type": "pie"
           }
          ],
          "scatter": [
           {
            "fillpattern": {
             "fillmode": "overlay",
             "size": 10,
             "solidity": 0.2
            },
            "type": "scatter"
           }
          ],
          "scatter3d": [
           {
            "line": {
             "colorbar": {
              "outlinewidth": 0,
              "ticks": ""
             }
            },
            "marker": {
             "colorbar": {
              "outlinewidth": 0,
              "ticks": ""
             }
            },
            "type": "scatter3d"
           }
          ],
          "scattercarpet": [
           {
            "marker": {
             "colorbar": {
              "outlinewidth": 0,
              "ticks": ""
             }
            },
            "type": "scattercarpet"
           }
          ],
          "scattergeo": [
           {
            "marker": {
             "colorbar": {
              "outlinewidth": 0,
              "ticks": ""
             }
            },
            "type": "scattergeo"
           }
          ],
          "scattergl": [
           {
            "marker": {
             "colorbar": {
              "outlinewidth": 0,
              "ticks": ""
             }
            },
            "type": "scattergl"
           }
          ],
          "scattermapbox": [
           {
            "marker": {
             "colorbar": {
              "outlinewidth": 0,
              "ticks": ""
             }
            },
            "type": "scattermapbox"
           }
          ],
          "scatterpolar": [
           {
            "marker": {
             "colorbar": {
              "outlinewidth": 0,
              "ticks": ""
             }
            },
            "type": "scatterpolar"
           }
          ],
          "scatterpolargl": [
           {
            "marker": {
             "colorbar": {
              "outlinewidth": 0,
              "ticks": ""
             }
            },
            "type": "scatterpolargl"
           }
          ],
          "scatterternary": [
           {
            "marker": {
             "colorbar": {
              "outlinewidth": 0,
              "ticks": ""
             }
            },
            "type": "scatterternary"
           }
          ],
          "surface": [
           {
            "colorbar": {
             "outlinewidth": 0,
             "ticks": ""
            },
            "colorscale": [
             [
              0,
              "#0d0887"
             ],
             [
              0.1111111111111111,
              "#46039f"
             ],
             [
              0.2222222222222222,
              "#7201a8"
             ],
             [
              0.3333333333333333,
              "#9c179e"
             ],
             [
              0.4444444444444444,
              "#bd3786"
             ],
             [
              0.5555555555555556,
              "#d8576b"
             ],
             [
              0.6666666666666666,
              "#ed7953"
             ],
             [
              0.7777777777777778,
              "#fb9f3a"
             ],
             [
              0.8888888888888888,
              "#fdca26"
             ],
             [
              1,
              "#f0f921"
             ]
            ],
            "type": "surface"
           }
          ],
          "table": [
           {
            "cells": {
             "fill": {
              "color": "#EBF0F8"
             },
             "line": {
              "color": "white"
             }
            },
            "header": {
             "fill": {
              "color": "#C8D4E3"
             },
             "line": {
              "color": "white"
             }
            },
            "type": "table"
           }
          ]
         },
         "layout": {
          "annotationdefaults": {
           "arrowcolor": "#2a3f5f",
           "arrowhead": 0,
           "arrowwidth": 1
          },
          "autotypenumbers": "strict",
          "coloraxis": {
           "colorbar": {
            "outlinewidth": 0,
            "ticks": ""
           }
          },
          "colorscale": {
           "diverging": [
            [
             0,
             "#8e0152"
            ],
            [
             0.1,
             "#c51b7d"
            ],
            [
             0.2,
             "#de77ae"
            ],
            [
             0.3,
             "#f1b6da"
            ],
            [
             0.4,
             "#fde0ef"
            ],
            [
             0.5,
             "#f7f7f7"
            ],
            [
             0.6,
             "#e6f5d0"
            ],
            [
             0.7,
             "#b8e186"
            ],
            [
             0.8,
             "#7fbc41"
            ],
            [
             0.9,
             "#4d9221"
            ],
            [
             1,
             "#276419"
            ]
           ],
           "sequential": [
            [
             0,
             "#0d0887"
            ],
            [
             0.1111111111111111,
             "#46039f"
            ],
            [
             0.2222222222222222,
             "#7201a8"
            ],
            [
             0.3333333333333333,
             "#9c179e"
            ],
            [
             0.4444444444444444,
             "#bd3786"
            ],
            [
             0.5555555555555556,
             "#d8576b"
            ],
            [
             0.6666666666666666,
             "#ed7953"
            ],
            [
             0.7777777777777778,
             "#fb9f3a"
            ],
            [
             0.8888888888888888,
             "#fdca26"
            ],
            [
             1,
             "#f0f921"
            ]
           ],
           "sequentialminus": [
            [
             0,
             "#0d0887"
            ],
            [
             0.1111111111111111,
             "#46039f"
            ],
            [
             0.2222222222222222,
             "#7201a8"
            ],
            [
             0.3333333333333333,
             "#9c179e"
            ],
            [
             0.4444444444444444,
             "#bd3786"
            ],
            [
             0.5555555555555556,
             "#d8576b"
            ],
            [
             0.6666666666666666,
             "#ed7953"
            ],
            [
             0.7777777777777778,
             "#fb9f3a"
            ],
            [
             0.8888888888888888,
             "#fdca26"
            ],
            [
             1,
             "#f0f921"
            ]
           ]
          },
          "colorway": [
           "#636efa",
           "#EF553B",
           "#00cc96",
           "#ab63fa",
           "#FFA15A",
           "#19d3f3",
           "#FF6692",
           "#B6E880",
           "#FF97FF",
           "#FECB52"
          ],
          "font": {
           "color": "#2a3f5f"
          },
          "geo": {
           "bgcolor": "white",
           "lakecolor": "white",
           "landcolor": "#E5ECF6",
           "showlakes": true,
           "showland": true,
           "subunitcolor": "white"
          },
          "hoverlabel": {
           "align": "left"
          },
          "hovermode": "closest",
          "mapbox": {
           "style": "light"
          },
          "paper_bgcolor": "white",
          "plot_bgcolor": "#E5ECF6",
          "polar": {
           "angularaxis": {
            "gridcolor": "white",
            "linecolor": "white",
            "ticks": ""
           },
           "bgcolor": "#E5ECF6",
           "radialaxis": {
            "gridcolor": "white",
            "linecolor": "white",
            "ticks": ""
           }
          },
          "scene": {
           "xaxis": {
            "backgroundcolor": "#E5ECF6",
            "gridcolor": "white",
            "gridwidth": 2,
            "linecolor": "white",
            "showbackground": true,
            "ticks": "",
            "zerolinecolor": "white"
           },
           "yaxis": {
            "backgroundcolor": "#E5ECF6",
            "gridcolor": "white",
            "gridwidth": 2,
            "linecolor": "white",
            "showbackground": true,
            "ticks": "",
            "zerolinecolor": "white"
           },
           "zaxis": {
            "backgroundcolor": "#E5ECF6",
            "gridcolor": "white",
            "gridwidth": 2,
            "linecolor": "white",
            "showbackground": true,
            "ticks": "",
            "zerolinecolor": "white"
           }
          },
          "shapedefaults": {
           "line": {
            "color": "#2a3f5f"
           }
          },
          "ternary": {
           "aaxis": {
            "gridcolor": "white",
            "linecolor": "white",
            "ticks": ""
           },
           "baxis": {
            "gridcolor": "white",
            "linecolor": "white",
            "ticks": ""
           },
           "bgcolor": "#E5ECF6",
           "caxis": {
            "gridcolor": "white",
            "linecolor": "white",
            "ticks": ""
           }
          },
          "title": {
           "x": 0.05
          },
          "xaxis": {
           "automargin": true,
           "gridcolor": "white",
           "linecolor": "white",
           "ticks": "",
           "title": {
            "standoff": 15
           },
           "zerolinecolor": "white",
           "zerolinewidth": 2
          },
          "yaxis": {
           "automargin": true,
           "gridcolor": "white",
           "linecolor": "white",
           "ticks": "",
           "title": {
            "standoff": 15
           },
           "zerolinecolor": "white",
           "zerolinewidth": 2
          }
         }
        },
        "title": {
         "text": "donorWeight distribution in real data"
        },
        "xaxis": {
         "anchor": "y",
         "domain": [
          0,
          1
         ],
         "range": [
          0,
          150
         ],
         "title": {
          "text": "donorWeight"
         }
        },
        "yaxis": {
         "anchor": "x",
         "domain": [
          0,
          1
         ],
         "title": {
          "text": "count"
         }
        }
       }
      }
     },
     "metadata": {},
     "output_type": "display_data"
    }
   ],
   "source": [
    "# plot histogram of donorWeight, in order to check the distribution of donorWeight in real and synthetic data\n",
    "fig = px.histogram(df_real, x='donorWeight', title='donorWeight distribution in real data', range_x=[0, 150])\n",
    "fig.show()\n",
    "fig = px.histogram(df_synthetic, x='donorWeight', title='donorWeight distribution in real data', range_x=[0, 150])\n",
    "fig.show()"
   ]
  },
  {
   "cell_type": "code",
   "execution_count": 14,
   "metadata": {},
   "outputs": [],
   "source": [
    "df_synthetic.to_parquet('synthetic_dataset.parquet')"
   ]
  }
 ],
 "metadata": {
  "kernelspec": {
   "display_name": "base",
   "language": "python",
   "name": "python3"
  },
  "language_info": {
   "codemirror_mode": {
    "name": "ipython",
    "version": 3
   },
   "file_extension": ".py",
   "mimetype": "text/x-python",
   "name": "python",
   "nbconvert_exporter": "python",
   "pygments_lexer": "ipython3",
   "version": "3.11.9"
  }
 },
 "nbformat": 4,
 "nbformat_minor": 2
}
